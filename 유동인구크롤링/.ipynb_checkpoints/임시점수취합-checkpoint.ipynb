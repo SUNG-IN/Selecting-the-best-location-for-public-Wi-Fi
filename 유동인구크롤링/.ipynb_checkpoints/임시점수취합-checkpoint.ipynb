{
 "cells": [
  {
   "cell_type": "code",
   "execution_count": 292,
   "metadata": {},
   "outputs": [
    {
     "name": "stderr",
     "output_type": "stream",
     "text": [
      "UsageError: Line magic function `%matplotlib.inline` not found.\n"
     ]
    }
   ],
   "source": [
    "%matplotlib.inline\n",
    "\n",
    "import os\n",
    "import numpy as np\n",
    "import pandas as pd\n",
    "from sklearn.cluster import KMeans\n",
    "from sklearn.preprocessing import StandardScaler \n",
    "from sklearn.decomposition import PCA\n",
    "\n",
    "import matplotlib.pyplot as plt\n",
    "\n",
    "\n",
    "plt.rcParams['font.family'] ='Malgun Gothic'\n",
    "plt.rcParams['axes.unicode_minus'] =False"
   ]
  },
  {
   "cell_type": "code",
   "execution_count": 293,
   "metadata": {},
   "outputs": [
    {
     "data": {
      "text/html": [
       "<div>\n",
       "<style scoped>\n",
       "    .dataframe tbody tr th:only-of-type {\n",
       "        vertical-align: middle;\n",
       "    }\n",
       "\n",
       "    .dataframe tbody tr th {\n",
       "        vertical-align: top;\n",
       "    }\n",
       "\n",
       "    .dataframe thead th {\n",
       "        text-align: right;\n",
       "    }\n",
       "</style>\n",
       "<table border=\"1\" class=\"dataframe\">\n",
       "  <thead>\n",
       "    <tr style=\"text-align: right;\">\n",
       "      <th></th>\n",
       "      <th>법정동코드</th>\n",
       "      <th>총인구수</th>\n",
       "      <th>공공와이파이수</th>\n",
       "      <th>고령인구수</th>\n",
       "      <th>기초생활인구수</th>\n",
       "      <th>평균소득</th>\n",
       "      <th>프렌차이즈수</th>\n",
       "      <th>법정동명</th>\n",
       "      <th>일반인구비율</th>\n",
       "      <th>고령인구비율</th>\n",
       "      <th>기초생활수급자비율</th>\n",
       "      <th>정보화수준_역량</th>\n",
       "    </tr>\n",
       "  </thead>\n",
       "  <tbody>\n",
       "    <tr>\n",
       "      <th>0</th>\n",
       "      <td>4377033023</td>\n",
       "      <td>231.0</td>\n",
       "      <td>0.0</td>\n",
       "      <td>102.0</td>\n",
       "      <td>2</td>\n",
       "      <td>2112.63</td>\n",
       "      <td>0.0</td>\n",
       "      <td>마산리</td>\n",
       "      <td>0.549784</td>\n",
       "      <td>0.441558</td>\n",
       "      <td>0.008658</td>\n",
       "      <td>0.794909</td>\n",
       "    </tr>\n",
       "    <tr>\n",
       "      <th>1</th>\n",
       "      <td>4377032030</td>\n",
       "      <td>295.0</td>\n",
       "      <td>0.0</td>\n",
       "      <td>152.0</td>\n",
       "      <td>1</td>\n",
       "      <td>1737.02</td>\n",
       "      <td>0.0</td>\n",
       "      <td>문암리</td>\n",
       "      <td>0.481356</td>\n",
       "      <td>0.515254</td>\n",
       "      <td>0.003390</td>\n",
       "      <td>0.761183</td>\n",
       "    </tr>\n",
       "    <tr>\n",
       "      <th>2</th>\n",
       "      <td>4377034026</td>\n",
       "      <td>302.0</td>\n",
       "      <td>0.0</td>\n",
       "      <td>108.0</td>\n",
       "      <td>1</td>\n",
       "      <td>1473.06</td>\n",
       "      <td>0.0</td>\n",
       "      <td>수태리</td>\n",
       "      <td>0.639073</td>\n",
       "      <td>0.357616</td>\n",
       "      <td>0.003311</td>\n",
       "      <td>0.834175</td>\n",
       "    </tr>\n",
       "    <tr>\n",
       "      <th>3</th>\n",
       "      <td>4377031027</td>\n",
       "      <td>285.0</td>\n",
       "      <td>1.0</td>\n",
       "      <td>139.0</td>\n",
       "      <td>1</td>\n",
       "      <td>2185.76</td>\n",
       "      <td>0.0</td>\n",
       "      <td>금고리</td>\n",
       "      <td>0.508772</td>\n",
       "      <td>0.487719</td>\n",
       "      <td>0.003509</td>\n",
       "      <td>0.773923</td>\n",
       "    </tr>\n",
       "    <tr>\n",
       "      <th>4</th>\n",
       "      <td>4377025029</td>\n",
       "      <td>3602.0</td>\n",
       "      <td>5.0</td>\n",
       "      <td>809.0</td>\n",
       "      <td>1</td>\n",
       "      <td>3564.58</td>\n",
       "      <td>3.0</td>\n",
       "      <td>신천리</td>\n",
       "      <td>0.775125</td>\n",
       "      <td>0.224597</td>\n",
       "      <td>0.000278</td>\n",
       "      <td>0.895991</td>\n",
       "    </tr>\n",
       "  </tbody>\n",
       "</table>\n",
       "</div>"
      ],
      "text/plain": [
       "        법정동코드    총인구수  공공와이파이수  고령인구수  기초생활인구수     평균소득  프렌차이즈수 법정동명  \\\n",
       "0  4377033023   231.0      0.0  102.0        2  2112.63     0.0  마산리   \n",
       "1  4377032030   295.0      0.0  152.0        1  1737.02     0.0  문암리   \n",
       "2  4377034026   302.0      0.0  108.0        1  1473.06     0.0  수태리   \n",
       "3  4377031027   285.0      1.0  139.0        1  2185.76     0.0  금고리   \n",
       "4  4377025029  3602.0      5.0  809.0        1  3564.58     3.0  신천리   \n",
       "\n",
       "     일반인구비율    고령인구비율  기초생활수급자비율  정보화수준_역량  \n",
       "0  0.549784  0.441558   0.008658  0.794909  \n",
       "1  0.481356  0.515254   0.003390  0.761183  \n",
       "2  0.639073  0.357616   0.003311  0.834175  \n",
       "3  0.508772  0.487719   0.003509  0.773923  \n",
       "4  0.775125  0.224597   0.000278  0.895991  "
      ]
     },
     "execution_count": 293,
     "metadata": {},
     "output_type": "execute_result"
    }
   ],
   "source": [
    "data = pd.read_csv('D:\\\\NIA\\\\선택과제\\\\충청북도 음성군 공공와이파이 우선설치지역 도출\\\\음성군_법정동데이터(완벽)\\\\임시점수취합.csv', encoding = 'utf-8')\n",
    "\n",
    "data.rename(columns = {'법정동�' : '법정동코드','총인구�' : '총인구수',\n",
    "             '공공와�' : '공공와이파이수','고령인�' : '고령인구수',\n",
    "                       '기초생�' : '기초생활인구수',\n",
    "             '평균소�' : '평균소득','프렌차�' : '프렌차이즈수',\n",
    "             '법정동�_1' : '법정동명' \n",
    "                      }, inplace = True)\n",
    "\n",
    "data.head()"
   ]
  },
  {
   "cell_type": "code",
   "execution_count": 297,
   "metadata": {},
   "outputs": [],
   "source": [
    "data['고정'] = data['고령인구비율'] * data['정보화수준_역량']"
   ]
  },
  {
   "cell_type": "code",
   "execution_count": 316,
   "metadata": {},
   "outputs": [
    {
     "data": {
      "text/html": [
       "<div>\n",
       "<style scoped>\n",
       "    .dataframe tbody tr th:only-of-type {\n",
       "        vertical-align: middle;\n",
       "    }\n",
       "\n",
       "    .dataframe tbody tr th {\n",
       "        vertical-align: top;\n",
       "    }\n",
       "\n",
       "    .dataframe thead th {\n",
       "        text-align: right;\n",
       "    }\n",
       "</style>\n",
       "<table border=\"1\" class=\"dataframe\">\n",
       "  <thead>\n",
       "    <tr style=\"text-align: right;\">\n",
       "      <th></th>\n",
       "      <th>총인구수</th>\n",
       "      <th>공공와이파이수</th>\n",
       "      <th>고령인구수</th>\n",
       "      <th>기초생활인구수</th>\n",
       "      <th>평균소득</th>\n",
       "      <th>프렌차이즈수</th>\n",
       "      <th>일반인구비율</th>\n",
       "      <th>고령인구비율</th>\n",
       "      <th>기초생활수급자비율</th>\n",
       "      <th>정보화수준_역량</th>\n",
       "      <th>고정</th>\n",
       "    </tr>\n",
       "  </thead>\n",
       "  <tbody>\n",
       "    <tr>\n",
       "      <th>0</th>\n",
       "      <td>231.0</td>\n",
       "      <td>0.0</td>\n",
       "      <td>102.0</td>\n",
       "      <td>2</td>\n",
       "      <td>2112.63</td>\n",
       "      <td>0.0</td>\n",
       "      <td>0.549784</td>\n",
       "      <td>0.441558</td>\n",
       "      <td>0.008658</td>\n",
       "      <td>0.794909</td>\n",
       "      <td>0.350999</td>\n",
       "    </tr>\n",
       "    <tr>\n",
       "      <th>1</th>\n",
       "      <td>295.0</td>\n",
       "      <td>0.0</td>\n",
       "      <td>152.0</td>\n",
       "      <td>1</td>\n",
       "      <td>1737.02</td>\n",
       "      <td>0.0</td>\n",
       "      <td>0.481356</td>\n",
       "      <td>0.515254</td>\n",
       "      <td>0.003390</td>\n",
       "      <td>0.761183</td>\n",
       "      <td>0.392203</td>\n",
       "    </tr>\n",
       "    <tr>\n",
       "      <th>2</th>\n",
       "      <td>302.0</td>\n",
       "      <td>0.0</td>\n",
       "      <td>108.0</td>\n",
       "      <td>1</td>\n",
       "      <td>1473.06</td>\n",
       "      <td>0.0</td>\n",
       "      <td>0.639073</td>\n",
       "      <td>0.357616</td>\n",
       "      <td>0.003311</td>\n",
       "      <td>0.834175</td>\n",
       "      <td>0.298314</td>\n",
       "    </tr>\n",
       "    <tr>\n",
       "      <th>3</th>\n",
       "      <td>285.0</td>\n",
       "      <td>1.0</td>\n",
       "      <td>139.0</td>\n",
       "      <td>1</td>\n",
       "      <td>2185.76</td>\n",
       "      <td>0.0</td>\n",
       "      <td>0.508772</td>\n",
       "      <td>0.487719</td>\n",
       "      <td>0.003509</td>\n",
       "      <td>0.773923</td>\n",
       "      <td>0.377457</td>\n",
       "    </tr>\n",
       "    <tr>\n",
       "      <th>4</th>\n",
       "      <td>3602.0</td>\n",
       "      <td>5.0</td>\n",
       "      <td>809.0</td>\n",
       "      <td>1</td>\n",
       "      <td>3564.58</td>\n",
       "      <td>3.0</td>\n",
       "      <td>0.775125</td>\n",
       "      <td>0.224597</td>\n",
       "      <td>0.000278</td>\n",
       "      <td>0.895991</td>\n",
       "      <td>0.201237</td>\n",
       "    </tr>\n",
       "    <tr>\n",
       "      <th>...</th>\n",
       "      <td>...</td>\n",
       "      <td>...</td>\n",
       "      <td>...</td>\n",
       "      <td>...</td>\n",
       "      <td>...</td>\n",
       "      <td>...</td>\n",
       "      <td>...</td>\n",
       "      <td>...</td>\n",
       "      <td>...</td>\n",
       "      <td>...</td>\n",
       "      <td>...</td>\n",
       "    </tr>\n",
       "    <tr>\n",
       "      <th>110</th>\n",
       "      <td>129.0</td>\n",
       "      <td>0.0</td>\n",
       "      <td>62.0</td>\n",
       "      <td>0</td>\n",
       "      <td>1800.03</td>\n",
       "      <td>0.0</td>\n",
       "      <td>0.519380</td>\n",
       "      <td>0.480620</td>\n",
       "      <td>0.000000</td>\n",
       "      <td>0.777473</td>\n",
       "      <td>0.373669</td>\n",
       "    </tr>\n",
       "    <tr>\n",
       "      <th>111</th>\n",
       "      <td>211.0</td>\n",
       "      <td>1.0</td>\n",
       "      <td>88.0</td>\n",
       "      <td>0</td>\n",
       "      <td>1672.74</td>\n",
       "      <td>0.0</td>\n",
       "      <td>0.582938</td>\n",
       "      <td>0.417062</td>\n",
       "      <td>0.000000</td>\n",
       "      <td>0.806900</td>\n",
       "      <td>0.336527</td>\n",
       "    </tr>\n",
       "    <tr>\n",
       "      <th>112</th>\n",
       "      <td>251.0</td>\n",
       "      <td>0.0</td>\n",
       "      <td>107.0</td>\n",
       "      <td>1</td>\n",
       "      <td>1833.35</td>\n",
       "      <td>0.0</td>\n",
       "      <td>0.569721</td>\n",
       "      <td>0.426295</td>\n",
       "      <td>0.003984</td>\n",
       "      <td>0.802327</td>\n",
       "      <td>0.342028</td>\n",
       "    </tr>\n",
       "    <tr>\n",
       "      <th>113</th>\n",
       "      <td>19.0</td>\n",
       "      <td>1.0</td>\n",
       "      <td>4.0</td>\n",
       "      <td>1</td>\n",
       "      <td>1701.22</td>\n",
       "      <td>0.0</td>\n",
       "      <td>0.736842</td>\n",
       "      <td>0.210526</td>\n",
       "      <td>0.052632</td>\n",
       "      <td>0.898579</td>\n",
       "      <td>0.189175</td>\n",
       "    </tr>\n",
       "    <tr>\n",
       "      <th>114</th>\n",
       "      <td>189.0</td>\n",
       "      <td>1.0</td>\n",
       "      <td>88.0</td>\n",
       "      <td>1</td>\n",
       "      <td>1773.51</td>\n",
       "      <td>0.0</td>\n",
       "      <td>0.529101</td>\n",
       "      <td>0.465608</td>\n",
       "      <td>0.005291</td>\n",
       "      <td>0.784026</td>\n",
       "      <td>0.365049</td>\n",
       "    </tr>\n",
       "  </tbody>\n",
       "</table>\n",
       "<p>115 rows × 11 columns</p>\n",
       "</div>"
      ],
      "text/plain": [
       "       총인구수  공공와이파이수  고령인구수  기초생활인구수     평균소득  프렌차이즈수    일반인구비율    고령인구비율  \\\n",
       "0     231.0      0.0  102.0        2  2112.63     0.0  0.549784  0.441558   \n",
       "1     295.0      0.0  152.0        1  1737.02     0.0  0.481356  0.515254   \n",
       "2     302.0      0.0  108.0        1  1473.06     0.0  0.639073  0.357616   \n",
       "3     285.0      1.0  139.0        1  2185.76     0.0  0.508772  0.487719   \n",
       "4    3602.0      5.0  809.0        1  3564.58     3.0  0.775125  0.224597   \n",
       "..      ...      ...    ...      ...      ...     ...       ...       ...   \n",
       "110   129.0      0.0   62.0        0  1800.03     0.0  0.519380  0.480620   \n",
       "111   211.0      1.0   88.0        0  1672.74     0.0  0.582938  0.417062   \n",
       "112   251.0      0.0  107.0        1  1833.35     0.0  0.569721  0.426295   \n",
       "113    19.0      1.0    4.0        1  1701.22     0.0  0.736842  0.210526   \n",
       "114   189.0      1.0   88.0        1  1773.51     0.0  0.529101  0.465608   \n",
       "\n",
       "     기초생활수급자비율  정보화수준_역량        고정  \n",
       "0     0.008658  0.794909  0.350999  \n",
       "1     0.003390  0.761183  0.392203  \n",
       "2     0.003311  0.834175  0.298314  \n",
       "3     0.003509  0.773923  0.377457  \n",
       "4     0.000278  0.895991  0.201237  \n",
       "..         ...       ...       ...  \n",
       "110   0.000000  0.777473  0.373669  \n",
       "111   0.000000  0.806900  0.336527  \n",
       "112   0.003984  0.802327  0.342028  \n",
       "113   0.052632  0.898579  0.189175  \n",
       "114   0.005291  0.784026  0.365049  \n",
       "\n",
       "[115 rows x 11 columns]"
      ]
     },
     "execution_count": 316,
     "metadata": {},
     "output_type": "execute_result"
    }
   ],
   "source": [
    "x = data.drop(['법정동코드','법정동명'], axis = 1)\n",
    "x"
   ]
  },
  {
   "cell_type": "code",
   "execution_count": null,
   "metadata": {},
   "outputs": [],
   "source": []
  },
  {
   "cell_type": "code",
   "execution_count": 300,
   "metadata": {},
   "outputs": [
    {
     "data": {
      "application/vnd.jupyter.widget-view+json": {
       "model_id": "083957b4b63e40198002d8a216808dee",
       "version_major": 2,
       "version_minor": 0
      },
      "text/plain": [
       "Tab(children=(HTML(value='<div id=\"overview-content\" class=\"row variable spacing\">\\n    <div class=\"row\">\\n   …"
      ]
     },
     "metadata": {},
     "output_type": "display_data"
    },
    {
     "data": {
      "text/html": [
       "Report generated with <a href=\"https://github.com/pandas-profiling/pandas-profiling\">pandas-profiling</a>."
      ],
      "text/plain": [
       "<IPython.core.display.HTML object>"
      ]
     },
     "metadata": {},
     "output_type": "display_data"
    }
   ],
   "source": [
    "import pandas_profiling\n",
    "pr=x.profile_report()\n",
    "\n",
    "\n",
    "pr.to_widgets()"
   ]
  },
  {
   "cell_type": "code",
   "execution_count": 317,
   "metadata": {},
   "outputs": [],
   "source": [
    "x = x[['정보화수준_역량','평균소득','고령인구수']]\n",
    "x.head()\n",
    "\n",
    "x_raw = x"
   ]
  },
  {
   "cell_type": "code",
   "execution_count": null,
   "metadata": {},
   "outputs": [],
   "source": []
  },
  {
   "cell_type": "code",
   "execution_count": 323,
   "metadata": {},
   "outputs": [],
   "source": [
    "k_means = KMeans(init='k-means++', n_clusters=4, n_init=10)\n",
    "k_means.fit_transform(x_raw)\n",
    "k_means_labels = k_means.labels_\n",
    "k_means_cluster_centers = k_means.cluster_centers_\n",
    "k_means_labels_unique = np.unique(k_means_labels)"
   ]
  },
  {
   "cell_type": "code",
   "execution_count": 324,
   "metadata": {},
   "outputs": [],
   "source": [
    "x['kmeans_cluster'] = k_means.labels_"
   ]
  },
  {
   "cell_type": "code",
   "execution_count": 325,
   "metadata": {},
   "outputs": [
    {
     "data": {
      "text/plain": [
       "Text(0.5, 1.0, 'K-means')"
      ]
     },
     "execution_count": 325,
     "metadata": {},
     "output_type": "execute_result"
    },
    {
     "data": {
      "image/png": "[encoded data removed]",
      "text/plain": [
       "<Figure size 510.625x432 with 1 Axes>"
      ]
     },
     "metadata": {},
     "output_type": "display_data"
    }
   ],
   "source": [
    "sns.relplot(\n",
    "    x=\"고령인구수\", y=\"평균소득\", hue=\"kmeans_cluster\", \n",
    "    data=x, height=6,\n",
    ");\n",
    "plt.title('K-means', size = 20)"
   ]
  },
  {
   "cell_type": "code",
   "execution_count": 322,
   "metadata": {},
   "outputs": [
    {
     "data": {
      "text/html": [
       "<div>\n",
       "<style scoped>\n",
       "    .dataframe tbody tr th:only-of-type {\n",
       "        vertical-align: middle;\n",
       "    }\n",
       "\n",
       "    .dataframe tbody tr th {\n",
       "        vertical-align: top;\n",
       "    }\n",
       "\n",
       "    .dataframe thead th {\n",
       "        text-align: right;\n",
       "    }\n",
       "</style>\n",
       "<table border=\"1\" class=\"dataframe\">\n",
       "  <thead>\n",
       "    <tr style=\"text-align: right;\">\n",
       "      <th></th>\n",
       "      <th>고령인구수</th>\n",
       "      <th>평균소득</th>\n",
       "      <th>정보화수준_역량</th>\n",
       "    </tr>\n",
       "    <tr>\n",
       "      <th>kmeans_cluster</th>\n",
       "      <th></th>\n",
       "      <th></th>\n",
       "      <th></th>\n",
       "    </tr>\n",
       "  </thead>\n",
       "  <tbody>\n",
       "    <tr>\n",
       "      <th>0</th>\n",
       "      <td>117.784091</td>\n",
       "      <td>1794.013750</td>\n",
       "      <td>0.800698</td>\n",
       "    </tr>\n",
       "    <tr>\n",
       "      <th>1</th>\n",
       "      <td>778.100000</td>\n",
       "      <td>3997.387000</td>\n",
       "      <td>0.932595</td>\n",
       "    </tr>\n",
       "    <tr>\n",
       "      <th>2</th>\n",
       "      <td>275.941176</td>\n",
       "      <td>2792.885294</td>\n",
       "      <td>0.874754</td>\n",
       "    </tr>\n",
       "  </tbody>\n",
       "</table>\n",
       "</div>"
      ],
      "text/plain": [
       "                     고령인구수         평균소득  정보화수준_역량\n",
       "kmeans_cluster                                   \n",
       "0               117.784091  1794.013750  0.800698\n",
       "1               778.100000  3997.387000  0.932595\n",
       "2               275.941176  2792.885294  0.874754"
      ]
     },
     "execution_count": 322,
     "metadata": {},
     "output_type": "execute_result"
    }
   ],
   "source": [
    "x.groupby('kmeans_cluster')[['고령인구수','평균소득','정보화수준_역량']].mean()\n",
    "\n",
    "# PC1 : 값이 클수록 고령인구비율이 적고 잘 사는 지역\n",
    "# PC2 : 값이 클수록 기초수급자비율이 높은 지역\n",
    "\n",
    "# 0 : 고령인구비율이 높고 못 사는 지역\n",
    "# 1 : 잘 사는 지역\n",
    "# 2 : 어정쩡한 지역"
   ]
  },
  {
   "cell_type": "code",
   "execution_count": 1074,
   "metadata": {},
   "outputs": [],
   "source": [
    "x.kmeans_cluster[x.kmeans_cluster == 0] = '고령인구비율이 높고 잘 못사는 지역'\n",
    "x.kmeans_cluster[x.kmeans_cluster == 1] = '잘 사는 지역'\n",
    "x.kmeans_cluster[x.kmeans_cluster == 2] = '어정쩡한 지역'"
   ]
  },
  {
   "cell_type": "code",
   "execution_count": 1075,
   "metadata": {},
   "outputs": [
    {
     "data": {
      "text/html": [
       "<div>\n",
       "<style scoped>\n",
       "    .dataframe tbody tr th:only-of-type {\n",
       "        vertical-align: middle;\n",
       "    }\n",
       "\n",
       "    .dataframe tbody tr th {\n",
       "        vertical-align: top;\n",
       "    }\n",
       "\n",
       "    .dataframe thead th {\n",
       "        text-align: right;\n",
       "    }\n",
       "</style>\n",
       "<table border=\"1\" class=\"dataframe\">\n",
       "  <thead>\n",
       "    <tr style=\"text-align: right;\">\n",
       "      <th></th>\n",
       "      <th>PC1</th>\n",
       "      <th>PC2</th>\n",
       "      <th>PC3</th>\n",
       "      <th>kmeans_cluster</th>\n",
       "    </tr>\n",
       "  </thead>\n",
       "  <tbody>\n",
       "    <tr>\n",
       "      <th>0</th>\n",
       "      <td>-1.020957</td>\n",
       "      <td>1.638400</td>\n",
       "      <td>0.142232</td>\n",
       "      <td>어정쩡한 지역</td>\n",
       "    </tr>\n",
       "    <tr>\n",
       "      <th>1</th>\n",
       "      <td>-2.024563</td>\n",
       "      <td>-0.088548</td>\n",
       "      <td>0.393049</td>\n",
       "      <td>어정쩡한 지역</td>\n",
       "    </tr>\n",
       "    <tr>\n",
       "      <th>2</th>\n",
       "      <td>-0.120494</td>\n",
       "      <td>0.243070</td>\n",
       "      <td>-0.490165</td>\n",
       "      <td>고령인구비율이 높고 잘 못사는 지역</td>\n",
       "    </tr>\n",
       "    <tr>\n",
       "      <th>3</th>\n",
       "      <td>-1.367677</td>\n",
       "      <td>0.014629</td>\n",
       "      <td>0.280970</td>\n",
       "      <td>어정쩡한 지역</td>\n",
       "    </tr>\n",
       "    <tr>\n",
       "      <th>4</th>\n",
       "      <td>3.291780</td>\n",
       "      <td>-0.333987</td>\n",
       "      <td>-0.685048</td>\n",
       "      <td>잘 사는 지역</td>\n",
       "    </tr>\n",
       "    <tr>\n",
       "      <th>...</th>\n",
       "      <td>...</td>\n",
       "      <td>...</td>\n",
       "      <td>...</td>\n",
       "      <td>...</td>\n",
       "    </tr>\n",
       "    <tr>\n",
       "      <th>107</th>\n",
       "      <td>-0.443322</td>\n",
       "      <td>0.597825</td>\n",
       "      <td>-0.027398</td>\n",
       "      <td>어정쩡한 지역</td>\n",
       "    </tr>\n",
       "    <tr>\n",
       "      <th>108</th>\n",
       "      <td>-1.386297</td>\n",
       "      <td>-1.009629</td>\n",
       "      <td>0.130608</td>\n",
       "      <td>고령인구비율이 높고 잘 못사는 지역</td>\n",
       "    </tr>\n",
       "    <tr>\n",
       "      <th>109</th>\n",
       "      <td>-0.633804</td>\n",
       "      <td>-0.866829</td>\n",
       "      <td>-0.226414</td>\n",
       "      <td>고령인구비율이 높고 잘 못사는 지역</td>\n",
       "    </tr>\n",
       "    <tr>\n",
       "      <th>110</th>\n",
       "      <td>-0.812954</td>\n",
       "      <td>0.290092</td>\n",
       "      <td>-0.071216</td>\n",
       "      <td>어정쩡한 지역</td>\n",
       "    </tr>\n",
       "    <tr>\n",
       "      <th>111</th>\n",
       "      <td>-1.424730</td>\n",
       "      <td>0.585808</td>\n",
       "      <td>0.168872</td>\n",
       "      <td>어정쩡한 지역</td>\n",
       "    </tr>\n",
       "  </tbody>\n",
       "</table>\n",
       "<p>112 rows × 4 columns</p>\n",
       "</div>"
      ],
      "text/plain": [
       "          PC1       PC2       PC3       kmeans_cluster\n",
       "0   -1.020957  1.638400  0.142232              어정쩡한 지역\n",
       "1   -2.024563 -0.088548  0.393049              어정쩡한 지역\n",
       "2   -0.120494  0.243070 -0.490165  고령인구비율이 높고 잘 못사는 지역\n",
       "3   -1.367677  0.014629  0.280970              어정쩡한 지역\n",
       "4    3.291780 -0.333987 -0.685048              잘 사는 지역\n",
       "..        ...       ...       ...                  ...\n",
       "107 -0.443322  0.597825 -0.027398              어정쩡한 지역\n",
       "108 -1.386297 -1.009629  0.130608  고령인구비율이 높고 잘 못사는 지역\n",
       "109 -0.633804 -0.866829 -0.226414  고령인구비율이 높고 잘 못사는 지역\n",
       "110 -0.812954  0.290092 -0.071216              어정쩡한 지역\n",
       "111 -1.424730  0.585808  0.168872              어정쩡한 지역\n",
       "\n",
       "[112 rows x 4 columns]"
      ]
     },
     "execution_count": 1075,
     "metadata": {},
     "output_type": "execute_result"
    }
   ],
   "source": [
    "pca_data"
   ]
  },
  {
   "cell_type": "code",
   "execution_count": 326,
   "metadata": {},
   "outputs": [
    {
     "data": {
      "image/png": "[encoded data removed]",
      "text/plain": [
       "<Figure size 576x396 with 1 Axes>"
      ]
     },
     "metadata": {},
     "output_type": "display_data"
    }
   ],
   "source": [
    "distortions = []\n",
    "for i in range(1, 11):\n",
    "    km = KMedoids(\n",
    "        n_clusters=i\n",
    "    )\n",
    "    km.fit(x_raw)\n",
    "    distortions.append(km.inertia_) # 군집 내 분산, 적을수록 좋음\n",
    "\n",
    "# plot - 급격하게 줄어드는 부분\n",
    "plt.plot(range(1, 11), distortions, marker='o')\n",
    "plt.xlabel('Number of clusters')\n",
    "plt.ylabel('Distortion')\n",
    "plt.show()"
   ]
  },
  {
   "cell_type": "code",
   "execution_count": 328,
   "metadata": {},
   "outputs": [],
   "source": [
    "kmedoids = KMedoids(n_clusters=2, random_state=0).fit(x_raw)\n",
    "x['kmedoids_cluster'] = kmedoids.labels_    "
   ]
  },
  {
   "cell_type": "code",
   "execution_count": 329,
   "metadata": {},
   "outputs": [
    {
     "data": {
      "text/plain": [
       "Text(0.5, 1.0, 'K-medoids')"
      ]
     },
     "execution_count": 329,
     "metadata": {},
     "output_type": "execute_result"
    },
    {
     "data": {
      "image/png": "[encoded data removed]",
      "text/plain": [
       "<Figure size 518.5x432 with 1 Axes>"
      ]
     },
     "metadata": {},
     "output_type": "display_data"
    }
   ],
   "source": [
    "sns.relplot(\n",
    "    x=\"고령인구수\", y=\"정보화수준_역량\", hue=\"kmedoids_cluster\", \n",
    "    data=x, height=6,\n",
    ");\n",
    "plt.title('K-medoids', size = 20)"
   ]
  },
  {
   "cell_type": "code",
   "execution_count": 1079,
   "metadata": {},
   "outputs": [
    {
     "data": {
      "text/html": [
       "<div>\n",
       "<style scoped>\n",
       "    .dataframe tbody tr th:only-of-type {\n",
       "        vertical-align: middle;\n",
       "    }\n",
       "\n",
       "    .dataframe tbody tr th {\n",
       "        vertical-align: top;\n",
       "    }\n",
       "\n",
       "    .dataframe thead th {\n",
       "        text-align: right;\n",
       "    }\n",
       "</style>\n",
       "<table border=\"1\" class=\"dataframe\">\n",
       "  <thead>\n",
       "    <tr style=\"text-align: right;\">\n",
       "      <th></th>\n",
       "      <th>PC1</th>\n",
       "      <th>PC2</th>\n",
       "    </tr>\n",
       "    <tr>\n",
       "      <th>kmedoids_cluster</th>\n",
       "      <th></th>\n",
       "      <th></th>\n",
       "    </tr>\n",
       "  </thead>\n",
       "  <tbody>\n",
       "    <tr>\n",
       "      <th>0</th>\n",
       "      <td>-1.071948</td>\n",
       "      <td>0.834370</td>\n",
       "    </tr>\n",
       "    <tr>\n",
       "      <th>1</th>\n",
       "      <td>3.547519</td>\n",
       "      <td>0.111139</td>\n",
       "    </tr>\n",
       "    <tr>\n",
       "      <th>2</th>\n",
       "      <td>-0.601552</td>\n",
       "      <td>-0.762805</td>\n",
       "    </tr>\n",
       "  </tbody>\n",
       "</table>\n",
       "</div>"
      ],
      "text/plain": [
       "                       PC1       PC2\n",
       "kmedoids_cluster                    \n",
       "0                -1.071948  0.834370\n",
       "1                 3.547519  0.111139\n",
       "2                -0.601552 -0.762805"
      ]
     },
     "execution_count": 1079,
     "metadata": {},
     "output_type": "execute_result"
    }
   ],
   "source": [
    "pca_data.groupby('kmedoids_cluster')[['PC1','PC2']].mean()\n",
    "\n",
    "# PC1 : 값이 클수록 고령인구비율이 적고 잘 사는 지역\n",
    "# PC2 : 값이 클수록 기초수급자비율이 높은 지역\n",
    "\n",
    "# 0 : 고령인구비율이 높고 못 사는 지역\n",
    "# 1 : 잘 사는 지역\n",
    "# 2 : 어정쩡한 지역"
   ]
  },
  {
   "cell_type": "code",
   "execution_count": 1080,
   "metadata": {},
   "outputs": [],
   "source": [
    "pca_data.kmedoids_cluster[pca_data.kmedoids_cluster == 0] = '고령인구비율이 높고 잘 못사는 지역'\n",
    "pca_data.kmedoids_cluster[pca_data.kmedoids_cluster == 1] = '잘 사는 지역'\n",
    "pca_data.kmedoids_cluster[pca_data.kmedoids_cluster == 2] = '어정쩡한 지역'"
   ]
  },
  {
   "cell_type": "code",
   "execution_count": 1081,
   "metadata": {},
   "outputs": [
    {
     "data": {
      "text/html": [
       "<div>\n",
       "<style scoped>\n",
       "    .dataframe tbody tr th:only-of-type {\n",
       "        vertical-align: middle;\n",
       "    }\n",
       "\n",
       "    .dataframe tbody tr th {\n",
       "        vertical-align: top;\n",
       "    }\n",
       "\n",
       "    .dataframe thead th {\n",
       "        text-align: right;\n",
       "    }\n",
       "</style>\n",
       "<table border=\"1\" class=\"dataframe\">\n",
       "  <thead>\n",
       "    <tr style=\"text-align: right;\">\n",
       "      <th></th>\n",
       "      <th>PC1</th>\n",
       "      <th>PC2</th>\n",
       "      <th>PC3</th>\n",
       "      <th>kmeans_cluster</th>\n",
       "      <th>kmedoids_cluster</th>\n",
       "    </tr>\n",
       "  </thead>\n",
       "  <tbody>\n",
       "    <tr>\n",
       "      <th>0</th>\n",
       "      <td>-1.020957</td>\n",
       "      <td>1.638400</td>\n",
       "      <td>0.142232</td>\n",
       "      <td>어정쩡한 지역</td>\n",
       "      <td>고령인구비율이 높고 잘 못사는 지역</td>\n",
       "    </tr>\n",
       "    <tr>\n",
       "      <th>1</th>\n",
       "      <td>-2.024563</td>\n",
       "      <td>-0.088548</td>\n",
       "      <td>0.393049</td>\n",
       "      <td>어정쩡한 지역</td>\n",
       "      <td>고령인구비율이 높고 잘 못사는 지역</td>\n",
       "    </tr>\n",
       "    <tr>\n",
       "      <th>2</th>\n",
       "      <td>-0.120494</td>\n",
       "      <td>0.243070</td>\n",
       "      <td>-0.490165</td>\n",
       "      <td>고령인구비율이 높고 잘 못사는 지역</td>\n",
       "      <td>고령인구비율이 높고 잘 못사는 지역</td>\n",
       "    </tr>\n",
       "    <tr>\n",
       "      <th>3</th>\n",
       "      <td>-1.367677</td>\n",
       "      <td>0.014629</td>\n",
       "      <td>0.280970</td>\n",
       "      <td>어정쩡한 지역</td>\n",
       "      <td>고령인구비율이 높고 잘 못사는 지역</td>\n",
       "    </tr>\n",
       "    <tr>\n",
       "      <th>4</th>\n",
       "      <td>3.291780</td>\n",
       "      <td>-0.333987</td>\n",
       "      <td>-0.685048</td>\n",
       "      <td>잘 사는 지역</td>\n",
       "      <td>잘 사는 지역</td>\n",
       "    </tr>\n",
       "    <tr>\n",
       "      <th>...</th>\n",
       "      <td>...</td>\n",
       "      <td>...</td>\n",
       "      <td>...</td>\n",
       "      <td>...</td>\n",
       "      <td>...</td>\n",
       "    </tr>\n",
       "    <tr>\n",
       "      <th>107</th>\n",
       "      <td>-0.443322</td>\n",
       "      <td>0.597825</td>\n",
       "      <td>-0.027398</td>\n",
       "      <td>어정쩡한 지역</td>\n",
       "      <td>고령인구비율이 높고 잘 못사는 지역</td>\n",
       "    </tr>\n",
       "    <tr>\n",
       "      <th>108</th>\n",
       "      <td>-1.386297</td>\n",
       "      <td>-1.009629</td>\n",
       "      <td>0.130608</td>\n",
       "      <td>고령인구비율이 높고 잘 못사는 지역</td>\n",
       "      <td>어정쩡한 지역</td>\n",
       "    </tr>\n",
       "    <tr>\n",
       "      <th>109</th>\n",
       "      <td>-0.633804</td>\n",
       "      <td>-0.866829</td>\n",
       "      <td>-0.226414</td>\n",
       "      <td>고령인구비율이 높고 잘 못사는 지역</td>\n",
       "      <td>어정쩡한 지역</td>\n",
       "    </tr>\n",
       "    <tr>\n",
       "      <th>110</th>\n",
       "      <td>-0.812954</td>\n",
       "      <td>0.290092</td>\n",
       "      <td>-0.071216</td>\n",
       "      <td>어정쩡한 지역</td>\n",
       "      <td>고령인구비율이 높고 잘 못사는 지역</td>\n",
       "    </tr>\n",
       "    <tr>\n",
       "      <th>111</th>\n",
       "      <td>-1.424730</td>\n",
       "      <td>0.585808</td>\n",
       "      <td>0.168872</td>\n",
       "      <td>어정쩡한 지역</td>\n",
       "      <td>고령인구비율이 높고 잘 못사는 지역</td>\n",
       "    </tr>\n",
       "  </tbody>\n",
       "</table>\n",
       "<p>112 rows × 5 columns</p>\n",
       "</div>"
      ],
      "text/plain": [
       "          PC1       PC2       PC3       kmeans_cluster     kmedoids_cluster\n",
       "0   -1.020957  1.638400  0.142232              어정쩡한 지역  고령인구비율이 높고 잘 못사는 지역\n",
       "1   -2.024563 -0.088548  0.393049              어정쩡한 지역  고령인구비율이 높고 잘 못사는 지역\n",
       "2   -0.120494  0.243070 -0.490165  고령인구비율이 높고 잘 못사는 지역  고령인구비율이 높고 잘 못사는 지역\n",
       "3   -1.367677  0.014629  0.280970              어정쩡한 지역  고령인구비율이 높고 잘 못사는 지역\n",
       "4    3.291780 -0.333987 -0.685048              잘 사는 지역              잘 사는 지역\n",
       "..        ...       ...       ...                  ...                  ...\n",
       "107 -0.443322  0.597825 -0.027398              어정쩡한 지역  고령인구비율이 높고 잘 못사는 지역\n",
       "108 -1.386297 -1.009629  0.130608  고령인구비율이 높고 잘 못사는 지역              어정쩡한 지역\n",
       "109 -0.633804 -0.866829 -0.226414  고령인구비율이 높고 잘 못사는 지역              어정쩡한 지역\n",
       "110 -0.812954  0.290092 -0.071216              어정쩡한 지역  고령인구비율이 높고 잘 못사는 지역\n",
       "111 -1.424730  0.585808  0.168872              어정쩡한 지역  고령인구비율이 높고 잘 못사는 지역\n",
       "\n",
       "[112 rows x 5 columns]"
      ]
     },
     "execution_count": 1081,
     "metadata": {},
     "output_type": "execute_result"
    }
   ],
   "source": [
    "pca_data"
   ]
  },
  {
   "cell_type": "code",
   "execution_count": 1082,
   "metadata": {},
   "outputs": [
    {
     "data": {
      "image/png": "[encoded data removed]",
      "text/plain": [
       "<Figure size 576x396 with 1 Axes>"
      ]
     },
     "metadata": {},
     "output_type": "display_data"
    }
   ],
   "source": [
    "n_components = np.arange(1, 6)\n",
    "models = [GaussianMixture(n, covariance_type='full', random_state=0).fit(pca_raw)\n",
    "          for n in n_components]\n",
    "\n",
    "plt.plot(n_components, [m.bic(pca_raw) for m in models], label='BIC')\n",
    "#plt.plot(n_components, [m.aic(Xmoon) for m in models], label='AIC')\n",
    "plt.legend(loc='best')\n",
    "plt.xlabel('n_components');"
   ]
  },
  {
   "cell_type": "code",
   "execution_count": 1083,
   "metadata": {},
   "outputs": [],
   "source": [
    "# GMM 적용\n",
    "from sklearn.mixture import GaussianMixture\n",
    "# n_components로 미리 군집 개수 설정\n",
    "gmm = GaussianMixture(n_components=3, random_state=42)\n",
    "gmm_labels = gmm.fit(pca_raw).predict(pca_raw)\n",
    "\n",
    "pca_data['gmm_cluster'] = gmm_labels"
   ]
  },
  {
   "cell_type": "code",
   "execution_count": 1084,
   "metadata": {},
   "outputs": [
    {
     "data": {
      "text/plain": [
       "Text(0.5, 1.0, 'GMM')"
      ]
     },
     "execution_count": 1084,
     "metadata": {},
     "output_type": "execute_result"
    },
    {
     "data": {
      "image/png": "[encoded data removed]",
      "text/plain": [
       "<Figure size 569.875x504 with 1 Axes>"
      ]
     },
     "metadata": {},
     "output_type": "display_data"
    }
   ],
   "source": [
    "sns.relplot(\n",
    "    x=\"PC1\", y=\"PC2\", hue=\"gmm_cluster\", \n",
    "    data=pca_data, height=7,\n",
    ");\n",
    "plt.title('GMM', size = 20)"
   ]
  },
  {
   "cell_type": "code",
   "execution_count": 1085,
   "metadata": {},
   "outputs": [
    {
     "data": {
      "text/html": [
       "<div>\n",
       "<style scoped>\n",
       "    .dataframe tbody tr th:only-of-type {\n",
       "        vertical-align: middle;\n",
       "    }\n",
       "\n",
       "    .dataframe tbody tr th {\n",
       "        vertical-align: top;\n",
       "    }\n",
       "\n",
       "    .dataframe thead th {\n",
       "        text-align: right;\n",
       "    }\n",
       "</style>\n",
       "<table border=\"1\" class=\"dataframe\">\n",
       "  <thead>\n",
       "    <tr style=\"text-align: right;\">\n",
       "      <th></th>\n",
       "      <th>PC1</th>\n",
       "      <th>PC2</th>\n",
       "    </tr>\n",
       "    <tr>\n",
       "      <th>gmm_cluster</th>\n",
       "      <th></th>\n",
       "      <th></th>\n",
       "    </tr>\n",
       "  </thead>\n",
       "  <tbody>\n",
       "    <tr>\n",
       "      <th>0</th>\n",
       "      <td>-0.684345</td>\n",
       "      <td>-0.247802</td>\n",
       "    </tr>\n",
       "    <tr>\n",
       "      <th>1</th>\n",
       "      <td>3.625699</td>\n",
       "      <td>0.032999</td>\n",
       "    </tr>\n",
       "    <tr>\n",
       "      <th>2</th>\n",
       "      <td>-1.745928</td>\n",
       "      <td>2.211951</td>\n",
       "    </tr>\n",
       "  </tbody>\n",
       "</table>\n",
       "</div>"
      ],
      "text/plain": [
       "                  PC1       PC2\n",
       "gmm_cluster                    \n",
       "0           -0.684345 -0.247802\n",
       "1            3.625699  0.032999\n",
       "2           -1.745928  2.211951"
      ]
     },
     "execution_count": 1085,
     "metadata": {},
     "output_type": "execute_result"
    }
   ],
   "source": [
    "pca_data.groupby('gmm_cluster')[['PC1','PC2']].mean()\n",
    "\n",
    "# PC1 : 값이 클수록 고령인구비율이 적고 잘 사는 지역\n",
    "# PC2 : 값이 클수록 기초수급자비율이 높은 지역\n",
    "\n",
    "# 0 : 어정쩡한 지역\n",
    "# 1 : 잘 사는 지역\n",
    "# 2 : 못 사는 지역"
   ]
  },
  {
   "cell_type": "code",
   "execution_count": 1086,
   "metadata": {},
   "outputs": [],
   "source": [
    "pca_data.gmm_cluster[pca_data.gmm_cluster == 0] = '고령인구비율이 높고 잘 못사는 지역'\n",
    "pca_data.gmm_cluster[pca_data.gmm_cluster == 1] = '잘 사는 지역'\n",
    "pca_data.gmm_cluster[pca_data.gmm_cluster == 2] = '어정쩡한 지역'"
   ]
  },
  {
   "cell_type": "code",
   "execution_count": null,
   "metadata": {},
   "outputs": [],
   "source": []
  },
  {
   "cell_type": "code",
   "execution_count": 959,
   "metadata": {},
   "outputs": [],
   "source": [
    "from scipy.cluster.hierarchy import dendrogram, linkage\n",
    "from scipy.cluster.hierarchy import fcluster\n",
    "\n",
    "linked = linkage(pca_raw, 'single')"
   ]
  },
  {
   "cell_type": "code",
   "execution_count": 960,
   "metadata": {},
   "outputs": [
    {
     "data": {
      "image/png": "[encoded data removed]",
      "text/plain": [
       "<Figure size 720x504 with 1 Axes>"
      ]
     },
     "metadata": {},
     "output_type": "display_data"
    }
   ],
   "source": [
    "plt.figure(figsize=(10, 7))\n",
    "dendrogram(linked,\n",
    "            orientation='top',\n",
    "            distance_sort='descending',\n",
    "            show_leaf_counts=True)\n",
    "\n",
    "plt.xticks(rotation = 0)\n",
    "plt.show()"
   ]
  },
  {
   "cell_type": "code",
   "execution_count": 963,
   "metadata": {},
   "outputs": [],
   "source": [
    "hierarchy = pd.DataFrame(fcluster(linked,2,criterion='distance'))\n",
    "\n",
    "pca_data['hierarchy_cluster'] = hierarchy"
   ]
  },
  {
   "cell_type": "code",
   "execution_count": 964,
   "metadata": {},
   "outputs": [
    {
     "data": {
      "text/plain": [
       "Text(0.5, 1.0, 'hierarchical_cluster')"
      ]
     },
     "execution_count": 964,
     "metadata": {},
     "output_type": "execute_result"
    },
    {
     "data": {
      "image/png": "[encoded data removed]",
      "text/plain": [
       "<Figure size 515.75x432 with 1 Axes>"
      ]
     },
     "metadata": {},
     "output_type": "display_data"
    }
   ],
   "source": [
    "sns.relplot(\n",
    "    x=\"PC1\", y=\"PC2\", hue=\"hierarchy_cluster\", \n",
    "    data=pca_data, height=6,\n",
    ");\n",
    "plt.title('hierarchical_cluster', size = 20)"
   ]
  },
  {
   "cell_type": "code",
   "execution_count": 965,
   "metadata": {},
   "outputs": [
    {
     "name": "stdout",
     "output_type": "stream",
     "text": [
      "                        PC1       PC2\n",
      "hierarchy_cluster                    \n",
      "1                 -0.093484 -0.082696\n",
      "2                  4.404012  3.648073\n",
      "3                  5.879200  5.448481\n"
     ]
    },
    {
     "data": {
      "text/plain": [
       "1    110\n",
       "3      1\n",
       "2      1\n",
       "Name: hierarchy_cluster, dtype: int64"
      ]
     },
     "execution_count": 965,
     "metadata": {},
     "output_type": "execute_result"
    }
   ],
   "source": [
    "print(pca_data.groupby('hierarchy_cluster')[['PC1','PC2']].mean())\n",
    "\n",
    "pca_data.hierarchy_cluster.value_counts()"
   ]
  },
  {
   "cell_type": "code",
   "execution_count": null,
   "metadata": {},
   "outputs": [],
   "source": []
  },
  {
   "cell_type": "code",
   "execution_count": 1087,
   "metadata": {},
   "outputs": [
    {
     "data": {
      "image/png": "[encoded data removed]",
      "text/plain": [
       "<Figure size 576x396 with 1 Axes>"
      ]
     },
     "metadata": {},
     "output_type": "display_data"
    }
   ],
   "source": [
    "# we use nearestneighbors for calculating distance between points\n",
    "from sklearn.neighbors import NearestNeighbors\n",
    "\n",
    "# calculating distances\n",
    "neigh=NearestNeighbors(n_neighbors=2)\n",
    "distance=neigh.fit(pca_raw)\n",
    "\n",
    "# indices and distance values\n",
    "distances,indices=distance.kneighbors(pca_raw)\n",
    "\n",
    "# Now sorting the distance increasing order\n",
    "sorting_distances=np.sort(distances,axis=0)\n",
    "\n",
    "# sorted distances\n",
    "sorted_distances=sorting_distances[:,1]\n",
    "# plot between distance vs epsilon\n",
    "plt.plot(sorted_distances)\n",
    "plt.xlabel('Distance')\n",
    "plt.ylabel('Epsilon')\n",
    "plt.show()"
   ]
  },
  {
   "cell_type": "code",
   "execution_count": 1088,
   "metadata": {},
   "outputs": [],
   "source": [
    "from sklearn.cluster import DBSCAN\n",
    "\n",
    "dbs = DBSCAN(eps = 0.8, min_samples = 5, metric = \"euclidean\")\n",
    "# eps = 반지름\n",
    "dbs_labels = dbs.fit_predict(pca_raw) # DBSCAN 클러스터 라벨링 객체 생성\n",
    "\n",
    "pca_data['dbscan_cluster'] = dbs_labels"
   ]
  },
  {
   "cell_type": "code",
   "execution_count": 1089,
   "metadata": {},
   "outputs": [
    {
     "data": {
      "text/plain": [
       "Text(0.5, 1.0, 'dbscan_cluster')"
      ]
     },
     "execution_count": 1089,
     "metadata": {},
     "output_type": "execute_result"
    },
    {
     "data": {
      "image/png": "[encoded data removed]",
      "text/plain": [
       "<Figure size 506.375x432 with 1 Axes>"
      ]
     },
     "metadata": {},
     "output_type": "display_data"
    }
   ],
   "source": [
    "sns.relplot(\n",
    "    x=\"PC1\", y=\"PC2\", hue=\"dbscan_cluster\", \n",
    "    data=pca_data, height=6,\n",
    ");\n",
    "plt.title('dbscan_cluster', size = 20)"
   ]
  },
  {
   "cell_type": "code",
   "execution_count": 1090,
   "metadata": {},
   "outputs": [
    {
     "data": {
      "text/html": [
       "<div>\n",
       "<style scoped>\n",
       "    .dataframe tbody tr th:only-of-type {\n",
       "        vertical-align: middle;\n",
       "    }\n",
       "\n",
       "    .dataframe tbody tr th {\n",
       "        vertical-align: top;\n",
       "    }\n",
       "\n",
       "    .dataframe thead th {\n",
       "        text-align: right;\n",
       "    }\n",
       "</style>\n",
       "<table border=\"1\" class=\"dataframe\">\n",
       "  <thead>\n",
       "    <tr style=\"text-align: right;\">\n",
       "      <th></th>\n",
       "      <th>PC1</th>\n",
       "      <th>PC2</th>\n",
       "    </tr>\n",
       "    <tr>\n",
       "      <th>dbscan_cluster</th>\n",
       "      <th></th>\n",
       "      <th></th>\n",
       "    </tr>\n",
       "  </thead>\n",
       "  <tbody>\n",
       "    <tr>\n",
       "      <th>-1</th>\n",
       "      <td>-0.589998</td>\n",
       "      <td>2.507921</td>\n",
       "    </tr>\n",
       "    <tr>\n",
       "      <th>0</th>\n",
       "      <td>-0.277457</td>\n",
       "      <td>-0.179179</td>\n",
       "    </tr>\n",
       "    <tr>\n",
       "      <th>1</th>\n",
       "      <td>5.266368</td>\n",
       "      <td>0.030539</td>\n",
       "    </tr>\n",
       "  </tbody>\n",
       "</table>\n",
       "</div>"
      ],
      "text/plain": [
       "                     PC1       PC2\n",
       "dbscan_cluster                    \n",
       "-1             -0.589998  2.507921\n",
       " 0             -0.277457 -0.179179\n",
       " 1              5.266368  0.030539"
      ]
     },
     "execution_count": 1090,
     "metadata": {},
     "output_type": "execute_result"
    }
   ],
   "source": [
    "pca_data.groupby('dbscan_cluster')[['PC1','PC2']].mean()\n",
    "\n",
    "# PC1 : 값이 클수록 고령인구비율이 적고 잘 사는 지역\n",
    "# PC2 : 값이 클수록 기초수급자비율이 높은 지역\n",
    "\n",
    "# 0 : 어정쩡한 지역\n",
    "# 1 : 잘 사는 지역\n",
    "# -1 : 못 사는 지역"
   ]
  },
  {
   "cell_type": "code",
   "execution_count": null,
   "metadata": {},
   "outputs": [],
   "source": []
  }
 ],
 "metadata": {
  "kernelspec": {
   "display_name": "Python 3",
   "language": "python",
   "name": "python3"
  },
  "language_info": {
   "codemirror_mode": {
    "name": "ipython",
    "version": 3
   },
   "file_extension": ".py",
   "mimetype": "text/x-python",
   "name": "python",
   "nbconvert_exporter": "python",
   "pygments_lexer": "ipython3",
   "version": "3.7.7"
  }
 },
 "nbformat": 4,
 "nbformat_minor": 4
}
