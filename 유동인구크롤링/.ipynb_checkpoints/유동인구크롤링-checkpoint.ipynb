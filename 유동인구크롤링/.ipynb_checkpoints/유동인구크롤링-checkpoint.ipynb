{
 "cells": [
  {
   "cell_type": "code",
   "execution_count": 1,
   "metadata": {},
   "outputs": [],
   "source": [
    "from selenium.webdriver import Chrome\n",
    "import time\n",
    "import os\n",
    "import pandas as pd\n",
    "from selenium import webdriver\n",
    "#팝업창\n",
    "from selenium.webdriver.common.alert import Alert"
   ]
  },
  {
   "cell_type": "code",
   "execution_count": 2,
   "metadata": {},
   "outputs": [],
   "source": [
    "#옵션설정\n",
    "options = webdriver.ChromeOptions()\n",
    "options.add_argument(\"--start-maximized\")"
   ]
  },
  {
   "cell_type": "code",
   "execution_count": 3,
   "metadata": {},
   "outputs": [],
   "source": [
    "driver = webdriver.Chrome('D:/chromedriver_win32/chromedriver.exe', options=options)\n",
    "driver.implicitly_wait(3) #웹페이지 전체가 넘어올때까지 기다리기"
   ]
  },
  {
   "cell_type": "code",
   "execution_count": 4,
   "metadata": {},
   "outputs": [],
   "source": [
    "#url 접근\n",
    "driver.get('https://sg.sbiz.or.kr/godo/index.sg')\n",
    "time.sleep(5)"
   ]
  },
  {
   "cell_type": "code",
   "execution_count": 5,
   "metadata": {},
   "outputs": [],
   "source": [
    "# 팝업창 지우기\n",
    "\n",
    "driver.find_element_by_xpath('//*[@id=\"help_guide\"]/div/div[2]/div[2]/label').click()\n",
    "driver.find_element_by_xpath('//*[@id=\"help_guide\"]/div/div[2]/a').click()\n",
    "driver.find_element_by_xpath('//*[@id=\"noticeCloseForeverCookie0\"]').click()\n",
    "\n",
    "time.sleep(5)\n"
   ]
  },
  {
   "cell_type": "code",
   "execution_count": 6,
   "metadata": {},
   "outputs": [],
   "source": [
    "#로그인\n",
    "driver.find_element_by_xpath('//*[@id=\"header\"]/div/ul/li[3]/div/a').click()\n",
    "\n",
    "driver.find_element_by_name('loginid').send_keys('tjddls321') #아이디\n",
    "driver.find_element_by_name('passwd').send_keys('yjh541316840')  #비번\n",
    "driver.find_element_by_xpath('/html/body/div/div[3]/form/div/button').click()\n",
    "time.sleep(5)"
   ]
  },
  {
   "cell_type": "code",
   "execution_count": 7,
   "metadata": {},
   "outputs": [],
   "source": [
    "#상세분석 클릭\n",
    "driver.find_element_by_xpath('//*[@id=\"toLink\"]/a').click()\n",
    "time.sleep(3)"
   ]
  },
  {
   "cell_type": "code",
   "execution_count": 8,
   "metadata": {},
   "outputs": [],
   "source": [
    "#주소검색\n",
    "driver.find_element_by_name('searchAddress').send_keys('충북 음성군 음성읍 중앙로 173')\n",
    "driver.find_element_by_xpath('//*[@id=\"layerPopAddressMove\"]').click()\n",
    "time.sleep(3)\n",
    "\n",
    "driver.find_element_by_xpath('//*[@id=\"adrsList\"]/li/label/span').click()\n",
    "driver.find_element_by_class_name('foot').find_element_by_xpath('//div[3]/div[3]/a[2]').click()\n",
    "time.sleep(3)\n"
   ]
  },
  {
   "cell_type": "code",
   "execution_count": 9,
   "metadata": {},
   "outputs": [],
   "source": [
    "#업종선택\n",
    "driver.find_element_by_xpath('//*[@id=\"upjong\"]/ul/li[1]/label').click()\n",
    "time.sleep(3)\n",
    "driver.find_element_by_class_name('midd').find_element_by_xpath('//div/ul/li[1]/div/ul/li[2]/label').click()\n",
    "driver.find_element_by_id('checkTypeConfirm').click()\n",
    "time.sleep(3)\n"
   ]
  },
  {
   "cell_type": "code",
   "execution_count": 10,
   "metadata": {},
   "outputs": [],
   "source": [
    "#상권분석 클릭\n",
    "driver.find_element_by_xpath('//*[@id=\"map\"]/div[1]/div/div[6]/div[2]/div/ul/li[1]/label').click()\n",
    "#반경클릭\n",
    "driver.find_element_by_xpath('//*[@id=\"map\"]/div[1]/div/div[6]/div[2]/div/ul/li[1]/div/ul/li[2]/label').click()\n",
    "#반경지정\n",
    "driver.find_element_by_xpath('//*[@id=\"auto_circle\"]/div/div[2]/ul/li[8]/label').click()\n",
    "driver.find_element_by_xpath('//*[@id=\"auto_circle\"]/div/div[3]/a[2]/span').click()\n"
   ]
  },
  {
   "cell_type": "code",
   "execution_count": 11,
   "metadata": {},
   "outputs": [],
   "source": [
    "#반경 50으로 지정\n",
    "driver.find_element_by_xpath('//*[@id=\"auto_circle\"]/div/div[2]/div/input').send_keys('50')\n",
    "driver.find_element_by_xpath('//*[@id=\"auto_circle\"]/div/div[3]/a[2]/span').click()\n"
   ]
  },
  {
   "cell_type": "code",
   "execution_count": null,
   "metadata": {},
   "outputs": [],
   "source": [
    "#유동인구 분석\n",
    "driver.find_element_by_xpath('//*[@id=\"map\"]/div[1]/div/div[6]/div[3]/img').click()\n",
    "time.sleep(40)\n",
    "\n",
    "#인구분석\n",
    "driver.find_element_by_xpath('//*[@id=\"menu4\"]/a').click()\n",
    "#유동인구\n",
    "driver.find_element_by_xpath('//*[@id=\"menu4\"]/ul/li[1]/a').click()"
   ]
  },
  {
   "cell_type": "code",
   "execution_count": 50,
   "metadata": {},
   "outputs": [
    {
     "data": {
      "text/plain": [
       "'240'"
      ]
     },
     "execution_count": 50,
     "metadata": {},
     "output_type": "execute_result"
    }
   ],
   "source": [
    "a=driver.find_element_by_xpath('//*[@id=\"page4\"]/div[2]/table/tbody/tr[1]/td[13]')\n",
    "k=a.text\n",
    "k"
   ]
  },
  {
   "cell_type": "code",
   "execution_count": 51,
   "metadata": {},
   "outputs": [],
   "source": [
    "driver.find_element_by_xpath('//*[@id=\"bind\"]/div/a').click() #창닫기\n"
   ]
  },
  {
   "cell_type": "code",
   "execution_count": null,
   "metadata": {},
   "outputs": [],
   "source": []
  }
 ],
 "metadata": {
  "kernelspec": {
   "display_name": "Python 3",
   "language": "python",
   "name": "python3"
  },
  "language_info": {
   "codemirror_mode": {
    "name": "ipython",
    "version": 3
   },
   "file_extension": ".py",
   "mimetype": "text/x-python",
   "name": "python",
   "nbconvert_exporter": "python",
   "pygments_lexer": "ipython3",
   "version": "3.7.7"
  }
 },
 "nbformat": 4,
 "nbformat_minor": 5
}
