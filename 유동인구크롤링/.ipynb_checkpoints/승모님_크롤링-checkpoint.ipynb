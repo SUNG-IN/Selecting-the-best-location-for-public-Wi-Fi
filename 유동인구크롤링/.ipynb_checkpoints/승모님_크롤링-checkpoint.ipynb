{
 "cells": [
  {
   "cell_type": "code",
   "execution_count": 1,
   "metadata": {},
   "outputs": [],
   "source": [
    "from selenium.webdriver import Chrome\n",
    "import time\n",
    "import os\n",
    "import pandas as pd\n",
    "import re\n",
    "from selenium import webdriver\n",
    "#팝업창\n",
    "from selenium.webdriver.common.alert import Alert\n"
   ]
  },
  {
   "cell_type": "code",
   "execution_count": 2,
   "metadata": {},
   "outputs": [],
   "source": [
    "#옵션설정\n",
    "options = webdriver.ChromeOptions()\n",
    "options.add_argument(\"--start-maximized\")"
   ]
  },
  {
   "cell_type": "code",
   "execution_count": 9,
   "metadata": {},
   "outputs": [],
   "source": [
    "driver = webdriver.Chrome('D:/chromedriver_win32/chromedriver.exe', options=options)\n",
    "driver.implicitly_wait(3) #웹페이지 전체가 넘어올때까지 기다리기"
   ]
  },
  {
   "cell_type": "code",
   "execution_count": 132,
   "metadata": {},
   "outputs": [],
   "source": [
    "#url 접근\n",
    "driver.get('https://sg.sbiz.or.kr/godo/index.sg')\n",
    "time.sleep(5)"
   ]
  },
  {
   "cell_type": "code",
   "execution_count": 133,
   "metadata": {},
   "outputs": [
    {
     "ename": "NoSuchElementException",
     "evalue": "Message: no such element: Unable to locate element: {\"method\":\"xpath\",\"selector\":\"//*[@id=\"noticeCloseForeverCookie0\"]\"}\n  (Session info: chrome=96.0.4664.93)\n",
     "output_type": "error",
     "traceback": [
      "\u001b[1;31m---------------------------------------------------------------------------\u001b[0m",
      "\u001b[1;31mNoSuchElementException\u001b[0m                    Traceback (most recent call last)",
      "\u001b[1;32m<ipython-input-133-89974168a68a>\u001b[0m in \u001b[0;36m<module>\u001b[1;34m\u001b[0m\n\u001b[0;32m      3\u001b[0m \u001b[0mdriver\u001b[0m\u001b[1;33m.\u001b[0m\u001b[0mfind_element_by_xpath\u001b[0m\u001b[1;33m(\u001b[0m\u001b[1;34m'//*[@id=\"help_guide\"]/div/div[2]/div[2]/label'\u001b[0m\u001b[1;33m)\u001b[0m\u001b[1;33m.\u001b[0m\u001b[0mclick\u001b[0m\u001b[1;33m(\u001b[0m\u001b[1;33m)\u001b[0m\u001b[1;33m\u001b[0m\u001b[1;33m\u001b[0m\u001b[0m\n\u001b[0;32m      4\u001b[0m \u001b[0mdriver\u001b[0m\u001b[1;33m.\u001b[0m\u001b[0mfind_element_by_xpath\u001b[0m\u001b[1;33m(\u001b[0m\u001b[1;34m'//*[@id=\"help_guide\"]/div/div[2]/a'\u001b[0m\u001b[1;33m)\u001b[0m\u001b[1;33m.\u001b[0m\u001b[0mclick\u001b[0m\u001b[1;33m(\u001b[0m\u001b[1;33m)\u001b[0m\u001b[1;33m\u001b[0m\u001b[1;33m\u001b[0m\u001b[0m\n\u001b[1;32m----> 5\u001b[1;33m \u001b[0mdriver\u001b[0m\u001b[1;33m.\u001b[0m\u001b[0mfind_element_by_xpath\u001b[0m\u001b[1;33m(\u001b[0m\u001b[1;34m'//*[@id=\"noticeCloseForeverCookie0\"]'\u001b[0m\u001b[1;33m)\u001b[0m\u001b[1;33m.\u001b[0m\u001b[0mclick\u001b[0m\u001b[1;33m(\u001b[0m\u001b[1;33m)\u001b[0m\u001b[1;33m\u001b[0m\u001b[1;33m\u001b[0m\u001b[0m\n\u001b[0m\u001b[0;32m      6\u001b[0m \u001b[1;33m\u001b[0m\u001b[0m\n\u001b[0;32m      7\u001b[0m \u001b[0mtime\u001b[0m\u001b[1;33m.\u001b[0m\u001b[0msleep\u001b[0m\u001b[1;33m(\u001b[0m\u001b[1;36m5\u001b[0m\u001b[1;33m)\u001b[0m\u001b[1;33m\u001b[0m\u001b[1;33m\u001b[0m\u001b[0m\n",
      "\u001b[1;32m~\\anaconda3\\lib\\site-packages\\selenium\\webdriver\\remote\\webdriver.py\u001b[0m in \u001b[0;36mfind_element_by_xpath\u001b[1;34m(self, xpath)\u001b[0m\n\u001b[0;32m    392\u001b[0m             \u001b[0melement\u001b[0m \u001b[1;33m=\u001b[0m \u001b[0mdriver\u001b[0m\u001b[1;33m.\u001b[0m\u001b[0mfind_element_by_xpath\u001b[0m\u001b[1;33m(\u001b[0m\u001b[1;34m'//div/td[1]'\u001b[0m\u001b[1;33m)\u001b[0m\u001b[1;33m\u001b[0m\u001b[1;33m\u001b[0m\u001b[0m\n\u001b[0;32m    393\u001b[0m         \"\"\"\n\u001b[1;32m--> 394\u001b[1;33m         \u001b[1;32mreturn\u001b[0m \u001b[0mself\u001b[0m\u001b[1;33m.\u001b[0m\u001b[0mfind_element\u001b[0m\u001b[1;33m(\u001b[0m\u001b[0mby\u001b[0m\u001b[1;33m=\u001b[0m\u001b[0mBy\u001b[0m\u001b[1;33m.\u001b[0m\u001b[0mXPATH\u001b[0m\u001b[1;33m,\u001b[0m \u001b[0mvalue\u001b[0m\u001b[1;33m=\u001b[0m\u001b[0mxpath\u001b[0m\u001b[1;33m)\u001b[0m\u001b[1;33m\u001b[0m\u001b[1;33m\u001b[0m\u001b[0m\n\u001b[0m\u001b[0;32m    395\u001b[0m \u001b[1;33m\u001b[0m\u001b[0m\n\u001b[0;32m    396\u001b[0m     \u001b[1;32mdef\u001b[0m \u001b[0mfind_elements_by_xpath\u001b[0m\u001b[1;33m(\u001b[0m\u001b[0mself\u001b[0m\u001b[1;33m,\u001b[0m \u001b[0mxpath\u001b[0m\u001b[1;33m)\u001b[0m\u001b[1;33m:\u001b[0m\u001b[1;33m\u001b[0m\u001b[1;33m\u001b[0m\u001b[0m\n",
      "\u001b[1;32m~\\anaconda3\\lib\\site-packages\\selenium\\webdriver\\remote\\webdriver.py\u001b[0m in \u001b[0;36mfind_element\u001b[1;34m(self, by, value)\u001b[0m\n\u001b[0;32m    974\u001b[0m                 \u001b[0mby\u001b[0m \u001b[1;33m=\u001b[0m \u001b[0mBy\u001b[0m\u001b[1;33m.\u001b[0m\u001b[0mCSS_SELECTOR\u001b[0m\u001b[1;33m\u001b[0m\u001b[1;33m\u001b[0m\u001b[0m\n\u001b[0;32m    975\u001b[0m                 \u001b[0mvalue\u001b[0m \u001b[1;33m=\u001b[0m \u001b[1;34m'[name=\"%s\"]'\u001b[0m \u001b[1;33m%\u001b[0m \u001b[0mvalue\u001b[0m\u001b[1;33m\u001b[0m\u001b[1;33m\u001b[0m\u001b[0m\n\u001b[1;32m--> 976\u001b[1;33m         return self.execute(Command.FIND_ELEMENT, {\n\u001b[0m\u001b[0;32m    977\u001b[0m             \u001b[1;34m'using'\u001b[0m\u001b[1;33m:\u001b[0m \u001b[0mby\u001b[0m\u001b[1;33m,\u001b[0m\u001b[1;33m\u001b[0m\u001b[1;33m\u001b[0m\u001b[0m\n\u001b[0;32m    978\u001b[0m             'value': value})['value']\n",
      "\u001b[1;32m~\\anaconda3\\lib\\site-packages\\selenium\\webdriver\\remote\\webdriver.py\u001b[0m in \u001b[0;36mexecute\u001b[1;34m(self, driver_command, params)\u001b[0m\n\u001b[0;32m    319\u001b[0m         \u001b[0mresponse\u001b[0m \u001b[1;33m=\u001b[0m \u001b[0mself\u001b[0m\u001b[1;33m.\u001b[0m\u001b[0mcommand_executor\u001b[0m\u001b[1;33m.\u001b[0m\u001b[0mexecute\u001b[0m\u001b[1;33m(\u001b[0m\u001b[0mdriver_command\u001b[0m\u001b[1;33m,\u001b[0m \u001b[0mparams\u001b[0m\u001b[1;33m)\u001b[0m\u001b[1;33m\u001b[0m\u001b[1;33m\u001b[0m\u001b[0m\n\u001b[0;32m    320\u001b[0m         \u001b[1;32mif\u001b[0m \u001b[0mresponse\u001b[0m\u001b[1;33m:\u001b[0m\u001b[1;33m\u001b[0m\u001b[1;33m\u001b[0m\u001b[0m\n\u001b[1;32m--> 321\u001b[1;33m             \u001b[0mself\u001b[0m\u001b[1;33m.\u001b[0m\u001b[0merror_handler\u001b[0m\u001b[1;33m.\u001b[0m\u001b[0mcheck_response\u001b[0m\u001b[1;33m(\u001b[0m\u001b[0mresponse\u001b[0m\u001b[1;33m)\u001b[0m\u001b[1;33m\u001b[0m\u001b[1;33m\u001b[0m\u001b[0m\n\u001b[0m\u001b[0;32m    322\u001b[0m             response['value'] = self._unwrap_value(\n\u001b[0;32m    323\u001b[0m                 response.get('value', None))\n",
      "\u001b[1;32m~\\anaconda3\\lib\\site-packages\\selenium\\webdriver\\remote\\errorhandler.py\u001b[0m in \u001b[0;36mcheck_response\u001b[1;34m(self, response)\u001b[0m\n\u001b[0;32m    240\u001b[0m                 \u001b[0malert_text\u001b[0m \u001b[1;33m=\u001b[0m \u001b[0mvalue\u001b[0m\u001b[1;33m[\u001b[0m\u001b[1;34m'alert'\u001b[0m\u001b[1;33m]\u001b[0m\u001b[1;33m.\u001b[0m\u001b[0mget\u001b[0m\u001b[1;33m(\u001b[0m\u001b[1;34m'text'\u001b[0m\u001b[1;33m)\u001b[0m\u001b[1;33m\u001b[0m\u001b[1;33m\u001b[0m\u001b[0m\n\u001b[0;32m    241\u001b[0m             \u001b[1;32mraise\u001b[0m \u001b[0mexception_class\u001b[0m\u001b[1;33m(\u001b[0m\u001b[0mmessage\u001b[0m\u001b[1;33m,\u001b[0m \u001b[0mscreen\u001b[0m\u001b[1;33m,\u001b[0m \u001b[0mstacktrace\u001b[0m\u001b[1;33m,\u001b[0m \u001b[0malert_text\u001b[0m\u001b[1;33m)\u001b[0m\u001b[1;33m\u001b[0m\u001b[1;33m\u001b[0m\u001b[0m\n\u001b[1;32m--> 242\u001b[1;33m         \u001b[1;32mraise\u001b[0m \u001b[0mexception_class\u001b[0m\u001b[1;33m(\u001b[0m\u001b[0mmessage\u001b[0m\u001b[1;33m,\u001b[0m \u001b[0mscreen\u001b[0m\u001b[1;33m,\u001b[0m \u001b[0mstacktrace\u001b[0m\u001b[1;33m)\u001b[0m\u001b[1;33m\u001b[0m\u001b[1;33m\u001b[0m\u001b[0m\n\u001b[0m\u001b[0;32m    243\u001b[0m \u001b[1;33m\u001b[0m\u001b[0m\n\u001b[0;32m    244\u001b[0m     \u001b[1;32mdef\u001b[0m \u001b[0m_value_or_default\u001b[0m\u001b[1;33m(\u001b[0m\u001b[0mself\u001b[0m\u001b[1;33m,\u001b[0m \u001b[0mobj\u001b[0m\u001b[1;33m,\u001b[0m \u001b[0mkey\u001b[0m\u001b[1;33m,\u001b[0m \u001b[0mdefault\u001b[0m\u001b[1;33m)\u001b[0m\u001b[1;33m:\u001b[0m\u001b[1;33m\u001b[0m\u001b[1;33m\u001b[0m\u001b[0m\n",
      "\u001b[1;31mNoSuchElementException\u001b[0m: Message: no such element: Unable to locate element: {\"method\":\"xpath\",\"selector\":\"//*[@id=\"noticeCloseForeverCookie0\"]\"}\n  (Session info: chrome=96.0.4664.93)\n"
     ]
    }
   ],
   "source": [
    "# 팝업창 지우기\n",
    "\n",
    "driver.find_element_by_xpath('//*[@id=\"help_guide\"]/div/div[2]/div[2]/label').click()\n",
    "driver.find_element_by_xpath('//*[@id=\"help_guide\"]/div/div[2]/a').click()\n",
    "driver.find_element_by_xpath('//*[@id=\"noticeCloseForeverCookie0\"]').click()\n",
    "\n",
    "time.sleep(5)"
   ]
  },
  {
   "cell_type": "code",
   "execution_count": 135,
   "metadata": {},
   "outputs": [],
   "source": [
    "#로그인\n",
    "driver.find_element_by_xpath('//*[@id=\"header\"]/div/ul/li[3]/div/a').click()\n",
    "\n",
    "driver.find_element_by_name('loginid').send_keys('tjddls321') #아이디\n",
    "driver.find_element_by_name('passwd').send_keys('yjh541316840')  #비번\n",
    "driver.find_element_by_xpath('/html/body/div/div[3]/form/div/button').click()\n",
    "time.sleep(5)"
   ]
  },
  {
   "cell_type": "code",
   "execution_count": 134,
   "metadata": {},
   "outputs": [],
   "source": [
    "#상세분석 클릭\n",
    "driver.find_element_by_xpath('//*[@id=\"toLink\"]/a').click()\n",
    "time.sleep(3)"
   ]
  },
  {
   "cell_type": "code",
   "execution_count": 8,
   "metadata": {},
   "outputs": [
    {
     "data": {
      "text/html": [
       "<div>\n",
       "<style scoped>\n",
       "    .dataframe tbody tr th:only-of-type {\n",
       "        vertical-align: middle;\n",
       "    }\n",
       "\n",
       "    .dataframe tbody tr th {\n",
       "        vertical-align: top;\n",
       "    }\n",
       "\n",
       "    .dataframe thead th {\n",
       "        text-align: right;\n",
       "    }\n",
       "</style>\n",
       "<table border=\"1\" class=\"dataframe\">\n",
       "  <thead>\n",
       "    <tr style=\"text-align: right;\">\n",
       "      <th></th>\n",
       "      <th>index</th>\n",
       "      <th>주소</th>\n",
       "    </tr>\n",
       "  </thead>\n",
       "  <tbody>\n",
       "    <tr>\n",
       "      <th>0</th>\n",
       "      <td>8778</td>\n",
       "      <td>충청북도 음성군 소이면 비산리</td>\n",
       "    </tr>\n",
       "    <tr>\n",
       "      <th>1</th>\n",
       "      <td>8779</td>\n",
       "      <td>충청북도 음성군 소이면 비산리 319-1</td>\n",
       "    </tr>\n",
       "    <tr>\n",
       "      <th>2</th>\n",
       "      <td>8780</td>\n",
       "      <td>충청북도 음성군 소이면 비산리</td>\n",
       "    </tr>\n",
       "    <tr>\n",
       "      <th>3</th>\n",
       "      <td>8781</td>\n",
       "      <td>충청북도 음성군 소이면 비산리</td>\n",
       "    </tr>\n",
       "    <tr>\n",
       "      <th>4</th>\n",
       "      <td>8782</td>\n",
       "      <td>충청북도 음성군 소이면 비산리</td>\n",
       "    </tr>\n",
       "    <tr>\n",
       "      <th>...</th>\n",
       "      <td>...</td>\n",
       "      <td>...</td>\n",
       "    </tr>\n",
       "    <tr>\n",
       "      <th>4259</th>\n",
       "      <td>13037</td>\n",
       "      <td>충청북도 음성군 생극면 팔성리 919-1</td>\n",
       "    </tr>\n",
       "    <tr>\n",
       "      <th>4260</th>\n",
       "      <td>13038</td>\n",
       "      <td>충청북도 음성군 생극면 팔성리</td>\n",
       "    </tr>\n",
       "    <tr>\n",
       "      <th>4261</th>\n",
       "      <td>13039</td>\n",
       "      <td>충청북도 음성군 생극면 팔성리</td>\n",
       "    </tr>\n",
       "    <tr>\n",
       "      <th>4262</th>\n",
       "      <td>13040</td>\n",
       "      <td>충청북도 음성군 생극면 임곡길</td>\n",
       "    </tr>\n",
       "    <tr>\n",
       "      <th>4263</th>\n",
       "      <td>13041</td>\n",
       "      <td>충청북도 음성군 생극면 일생로</td>\n",
       "    </tr>\n",
       "  </tbody>\n",
       "</table>\n",
       "<p>4264 rows × 2 columns</p>\n",
       "</div>"
      ],
      "text/plain": [
       "      index                      주소\n",
       "0      8778        충청북도 음성군 소이면 비산리\n",
       "1      8779  충청북도 음성군 소이면 비산리 319-1\n",
       "2      8780        충청북도 음성군 소이면 비산리\n",
       "3      8781        충청북도 음성군 소이면 비산리\n",
       "4      8782        충청북도 음성군 소이면 비산리\n",
       "...     ...                     ...\n",
       "4259  13037  충청북도 음성군 생극면 팔성리 919-1\n",
       "4260  13038        충청북도 음성군 생극면 팔성리\n",
       "4261  13039        충청북도 음성군 생극면 팔성리\n",
       "4262  13040        충청북도 음성군 생극면 임곡길\n",
       "4263  13041        충청북도 음성군 생극면 일생로\n",
       "\n",
       "[4264 rows x 2 columns]"
      ]
     },
     "execution_count": 8,
     "metadata": {},
     "output_type": "execute_result"
    }
   ],
   "source": [
    "result = pd.read_csv(r'D:\\NIA\\선택과제\\충청북도 음성군 공공와이파이 우선설치지역 도출\\유동인구크롤링\\음성군_승모_주소2.csv')\n",
    "result['index'] = result['index'] -1\n",
    "result"
   ]
  },
  {
   "cell_type": "code",
   "execution_count": null,
   "metadata": {},
   "outputs": [],
   "source": [
    "#주소검색\n",
    "for idx, i in enumerate(result['주소'].iloc[2500:]):\n",
    "    \n",
    "    driver.find_element_by_name('searchAddress').clear()\n",
    "    driver.find_element_by_name('searchAddress').send_keys(i)\n",
    "    driver.find_element_by_xpath('//*[@id=\"layerPopAddressMove\"]').click()\n",
    "    time.sleep(3)\n",
    "    \n",
    "    \n",
    "    #주소가 존재하지 않을 경우 다음 루프로 넘어가기\n",
    "    if len(driver.find_elements_by_xpath('//*[@id=\"adrsList\"]/li/span')) > 0:\n",
    "        print(f'[주소가 존재하지 않는 지역]\\n{idx + 1 + 3447}번째\\n{i}\\n유동인구수 : 0')\n",
    "        continue\n",
    "    \n",
    "    \n",
    "    \n",
    "    driver.find_element_by_xpath('//*[@id=\"adrsList\"]/li/label/span').click()\n",
    "    driver.find_element_by_class_name('foot').find_element_by_xpath('//div[3]/div[3]/a[2]').click()\n",
    "    time.sleep(3)\n",
    "\n",
    "\n",
    "    #상권분석 클릭\n",
    "    driver.find_element_by_xpath('//*[@id=\"map\"]/div[1]/div/div[6]/div[2]/div/ul/li[1]/label').click()\n",
    "    \n",
    "    #반경클릭\n",
    "    driver.find_element_by_xpath('//*[@id=\"map\"]/div[1]/div/div[6]/div[2]/div/ul/li[1]/div/ul/li[2]/label/span').click()\n",
    "    time.sleep(3)\n",
    "    \n",
    "    #반경지정\n",
    "    if idx == 0:\n",
    "        driver.find_element_by_xpath('//*[@id=\"auto_circle\"]/div/div[2]/ul/li[8]/label').click()\n",
    "    ## 첫 루프를 진행한 후 입력사항이 그대로 남기 때문에 딱 한 번만 돌리자!\n",
    "    \n",
    "    driver.find_element_by_xpath('//*[@id=\"auto_circle\"]/div/div[3]/a[2]/span').click()\n",
    "\n",
    "\n",
    "    #반경 50으로 지정\n",
    "    if idx == 0:\n",
    "        driver.find_element_by_xpath('//*[@id=\"auto_circle\"]/div/div[2]/div/input').send_keys('50')\n",
    "        driver.find_element_by_xpath('//*[@id=\"auto_circle\"]/div/div[3]/a[2]/span').click()\n",
    "    ## 첫 루프를 진행한 후 입력사항이 그대로 남기 때문에 딱 한 번만 돌리자!\n",
    "\n",
    "    #유동인구 분석\n",
    "    driver.find_element_by_xpath('//*[@id=\"map\"]/div[1]/div/div[6]/div[3]/img').click()\n",
    "    time.sleep(50) ## 인구분석탭이 뒤늦게 뜨니 sleep을 크게!\n",
    "\n",
    "    #인구분석 클릭\n",
    "    driver.find_element_by_xpath('//*[@id=\"menu4\"]/a').click()\n",
    "    time.sleep(5)\n",
    "    \n",
    "    \n",
    "    #유동인구 도출\n",
    "    if len(driver.find_elements_by_xpath('//*[@id=\"error\"]/div/span')) > 0:\n",
    "        driver.find_element_by_xpath('//*[@id=\"bind\"]/div/a').click()\n",
    "        print(f'{idx + 1 + 3447}번째\\n{i}\\n유동인구수 : 0')\n",
    "        continue\n",
    "        \n",
    "        \n",
    "    else :\n",
    "        \n",
    "        #유동인구 클릭\n",
    "        driver.find_element_by_xpath('//*[@id=\"menu4\"]/ul/li[1]/a').click()\n",
    "        time.sleep(2)\n",
    "\n",
    "        a=driver.find_element_by_xpath('//*[@id=\"page4\"]/div[2]/table/tbody/tr[1]/td[13]')\n",
    "    \n",
    "        #각 주소마다 유동인구수 인덱스로 맵핑\n",
    "        result['유동인구'].iloc[idx + 3447] = a.text\n",
    "    \n",
    "        print(f'{idx + 1 + 3447}번째\\n{i}\\n유동인구수 : {a.text}')\n",
    "    \n",
    "        driver.find_element_by_xpath('//*[@id=\"bind\"]/div/a').click() #창닫기"
   ]
  },
  {
   "cell_type": "code",
   "execution_count": null,
   "metadata": {},
   "outputs": [],
   "source": [
    "with open('유동인구추가.txt','a',encoding='UTF-8') as f:\n",
    "    for i in adr:\n",
    "        f.write(i+'\\n')"
   ]
  },
  {
   "cell_type": "code",
   "execution_count": null,
   "metadata": {},
   "outputs": [],
   "source": [
    "cnt = pd.read_table(\n",
    "    '유동인구.txt',header=None,sep=\"\\n\")\n",
    "cnt.columns=['유동인구']\n",
    "cnt"
   ]
  }
 ],
 "metadata": {
  "kernelspec": {
   "display_name": "Python 3",
   "language": "python",
   "name": "python3"
  },
  "language_info": {
   "codemirror_mode": {
    "name": "ipython",
    "version": 3
   },
   "file_extension": ".py",
   "mimetype": "text/x-python",
   "name": "python",
   "nbconvert_exporter": "python",
   "pygments_lexer": "ipython3",
   "version": "3.7.7"
  }
 },
 "nbformat": 4,
 "nbformat_minor": 4
}
