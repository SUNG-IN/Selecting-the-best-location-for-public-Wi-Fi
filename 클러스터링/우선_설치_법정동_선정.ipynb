{
 "cells": [
  {
   "cell_type": "markdown",
   "metadata": {},
   "source": [
    "## 고령인구를 위한 공공와이파이 최적 입지 선정\n",
    "### 공공와이파이를 우선 설치해야 하는 법정동 색출"
   ]
  },
  {
   "cell_type": "code",
   "execution_count": 1,
   "metadata": {},
   "outputs": [],
   "source": [
    "import os\n",
    "import numpy as np\n",
    "import pandas as pd\n",
    "from sklearn.cluster import KMeans\n",
    "from sklearn_extra.cluster import KMedoids\n",
    "from sklearn.mixture import GaussianMixture\n",
    "from sklearn.cluster import DBSCAN\n",
    "from sklearn.neighbors import NearestNeighbors\n",
    "\n",
    "from sklearn.preprocessing import StandardScaler \n",
    "from sklearn.decomposition import PCA\n",
    "\n",
    "import matplotlib.pyplot as plt\n",
    "import plotly.express as px\n",
    "import seaborn as sns\n",
    "\n",
    "import pandas_profiling\n",
    "\n",
    "plt.rcParams['font.family'] ='Malgun Gothic'\n",
    "plt.rcParams['axes.unicode_minus'] =False\n",
    "\n",
    "import warnings\n",
    "warnings.filterwarnings(action='ignore') \n"
   ]
  },
  {
   "cell_type": "code",
   "execution_count": 6,
   "metadata": {},
   "outputs": [
    {
     "data": {
      "text/html": [
       "<div>\n",
       "<style scoped>\n",
       "    .dataframe tbody tr th:only-of-type {\n",
       "        vertical-align: middle;\n",
       "    }\n",
       "\n",
       "    .dataframe tbody tr th {\n",
       "        vertical-align: top;\n",
       "    }\n",
       "\n",
       "    .dataframe thead th {\n",
       "        text-align: right;\n",
       "    }\n",
       "</style>\n",
       "<table border=\"1\" class=\"dataframe\">\n",
       "  <thead>\n",
       "    <tr style=\"text-align: right;\">\n",
       "      <th></th>\n",
       "      <th>법정동코드</th>\n",
       "      <th>총인구수</th>\n",
       "      <th>공공와이파이수</th>\n",
       "      <th>고령인구수</th>\n",
       "      <th>기초생활인구수</th>\n",
       "      <th>평균소득</th>\n",
       "      <th>프렌차이즈수</th>\n",
       "      <th>법정동명</th>\n",
       "      <th>일반인구비율</th>\n",
       "      <th>고령인구비율</th>\n",
       "      <th>기초생활수급자비율</th>\n",
       "      <th>정보화수준_역량</th>\n",
       "    </tr>\n",
       "  </thead>\n",
       "  <tbody>\n",
       "    <tr>\n",
       "      <th>0</th>\n",
       "      <td>4377033023</td>\n",
       "      <td>231.0</td>\n",
       "      <td>0.0</td>\n",
       "      <td>102.0</td>\n",
       "      <td>2</td>\n",
       "      <td>2112.63</td>\n",
       "      <td>0.0</td>\n",
       "      <td>마산리</td>\n",
       "      <td>0.549784</td>\n",
       "      <td>0.441558</td>\n",
       "      <td>0.008658</td>\n",
       "      <td>0.794909</td>\n",
       "    </tr>\n",
       "    <tr>\n",
       "      <th>1</th>\n",
       "      <td>4377032030</td>\n",
       "      <td>295.0</td>\n",
       "      <td>0.0</td>\n",
       "      <td>152.0</td>\n",
       "      <td>1</td>\n",
       "      <td>1737.02</td>\n",
       "      <td>0.0</td>\n",
       "      <td>문암리</td>\n",
       "      <td>0.481356</td>\n",
       "      <td>0.515254</td>\n",
       "      <td>0.003390</td>\n",
       "      <td>0.761183</td>\n",
       "    </tr>\n",
       "    <tr>\n",
       "      <th>2</th>\n",
       "      <td>4377034026</td>\n",
       "      <td>302.0</td>\n",
       "      <td>0.0</td>\n",
       "      <td>108.0</td>\n",
       "      <td>1</td>\n",
       "      <td>1473.06</td>\n",
       "      <td>0.0</td>\n",
       "      <td>수태리</td>\n",
       "      <td>0.639073</td>\n",
       "      <td>0.357616</td>\n",
       "      <td>0.003311</td>\n",
       "      <td>0.834175</td>\n",
       "    </tr>\n",
       "    <tr>\n",
       "      <th>3</th>\n",
       "      <td>4377031027</td>\n",
       "      <td>285.0</td>\n",
       "      <td>1.0</td>\n",
       "      <td>139.0</td>\n",
       "      <td>1</td>\n",
       "      <td>2185.76</td>\n",
       "      <td>0.0</td>\n",
       "      <td>금고리</td>\n",
       "      <td>0.508772</td>\n",
       "      <td>0.487719</td>\n",
       "      <td>0.003509</td>\n",
       "      <td>0.773923</td>\n",
       "    </tr>\n",
       "    <tr>\n",
       "      <th>4</th>\n",
       "      <td>4377025029</td>\n",
       "      <td>3602.0</td>\n",
       "      <td>5.0</td>\n",
       "      <td>809.0</td>\n",
       "      <td>1</td>\n",
       "      <td>3564.58</td>\n",
       "      <td>3.0</td>\n",
       "      <td>신천리</td>\n",
       "      <td>0.775125</td>\n",
       "      <td>0.224597</td>\n",
       "      <td>0.000278</td>\n",
       "      <td>0.895991</td>\n",
       "    </tr>\n",
       "  </tbody>\n",
       "</table>\n",
       "</div>"
      ],
      "text/plain": [
       "        법정동코드    총인구수  공공와이파이수  고령인구수  기초생활인구수     평균소득  프렌차이즈수 법정동명  \\\n",
       "0  4377033023   231.0      0.0  102.0        2  2112.63     0.0  마산리   \n",
       "1  4377032030   295.0      0.0  152.0        1  1737.02     0.0  문암리   \n",
       "2  4377034026   302.0      0.0  108.0        1  1473.06     0.0  수태리   \n",
       "3  4377031027   285.0      1.0  139.0        1  2185.76     0.0  금고리   \n",
       "4  4377025029  3602.0      5.0  809.0        1  3564.58     3.0  신천리   \n",
       "\n",
       "     일반인구비율    고령인구비율  기초생활수급자비율  정보화수준_역량  \n",
       "0  0.549784  0.441558   0.008658  0.794909  \n",
       "1  0.481356  0.515254   0.003390  0.761183  \n",
       "2  0.639073  0.357616   0.003311  0.834175  \n",
       "3  0.508772  0.487719   0.003509  0.773923  \n",
       "4  0.775125  0.224597   0.000278  0.895991  "
      ]
     },
     "execution_count": 6,
     "metadata": {},
     "output_type": "execute_result"
    }
   ],
   "source": [
    "# QGIS로 데이터를 병합하여 저장한 결과, 아무리 인코딩을 맞춰보아도 문제가 해결이 안됨. \n",
    "\n",
    "data = pd.read_csv(r'D:\\NIA\\선택과제\\Selecting-the-best-location-for-public-Wi-Fi\\최종취합데이터_법정동.csv', encoding = 'utf-8-sig')\n",
    "\n",
    "data.rename(columns = {'법정동�' : '법정동코드','총인구�' : '총인구수',\n",
    "             '공공와�' : '공공와이파이수','고령인�' : '고령인구수',\n",
    "                       '기초생�' : '기초생활인구수',\n",
    "             '평균소�' : '평균소득','프렌차�' : '프렌차이즈수',\n",
    "             '법정동�_1' : '법정동명'\n",
    "                      }, inplace = True)\n",
    "\n",
    "data.head()"
   ]
  },
  {
   "cell_type": "code",
   "execution_count": 14,
   "metadata": {},
   "outputs": [
    {
     "data": {
      "text/html": [
       "<div>\n",
       "<style scoped>\n",
       "    .dataframe tbody tr th:only-of-type {\n",
       "        vertical-align: middle;\n",
       "    }\n",
       "\n",
       "    .dataframe tbody tr th {\n",
       "        vertical-align: top;\n",
       "    }\n",
       "\n",
       "    .dataframe thead th {\n",
       "        text-align: right;\n",
       "    }\n",
       "</style>\n",
       "<table border=\"1\" class=\"dataframe\">\n",
       "  <thead>\n",
       "    <tr style=\"text-align: right;\">\n",
       "      <th></th>\n",
       "      <th>일반인구비율</th>\n",
       "      <th>고령인구비율</th>\n",
       "      <th>기초생활수급자비율</th>\n",
       "    </tr>\n",
       "  </thead>\n",
       "  <tbody>\n",
       "    <tr>\n",
       "      <th>0</th>\n",
       "      <td>0.549784</td>\n",
       "      <td>0.441558</td>\n",
       "      <td>0.008658</td>\n",
       "    </tr>\n",
       "    <tr>\n",
       "      <th>1</th>\n",
       "      <td>0.481356</td>\n",
       "      <td>0.515254</td>\n",
       "      <td>0.003390</td>\n",
       "    </tr>\n",
       "    <tr>\n",
       "      <th>2</th>\n",
       "      <td>0.639073</td>\n",
       "      <td>0.357616</td>\n",
       "      <td>0.003311</td>\n",
       "    </tr>\n",
       "    <tr>\n",
       "      <th>3</th>\n",
       "      <td>0.508772</td>\n",
       "      <td>0.487719</td>\n",
       "      <td>0.003509</td>\n",
       "    </tr>\n",
       "    <tr>\n",
       "      <th>4</th>\n",
       "      <td>0.775125</td>\n",
       "      <td>0.224597</td>\n",
       "      <td>0.000278</td>\n",
       "    </tr>\n",
       "    <tr>\n",
       "      <th>...</th>\n",
       "      <td>...</td>\n",
       "      <td>...</td>\n",
       "      <td>...</td>\n",
       "    </tr>\n",
       "    <tr>\n",
       "      <th>110</th>\n",
       "      <td>0.519380</td>\n",
       "      <td>0.480620</td>\n",
       "      <td>0.000000</td>\n",
       "    </tr>\n",
       "    <tr>\n",
       "      <th>111</th>\n",
       "      <td>0.582938</td>\n",
       "      <td>0.417062</td>\n",
       "      <td>0.000000</td>\n",
       "    </tr>\n",
       "    <tr>\n",
       "      <th>112</th>\n",
       "      <td>0.569721</td>\n",
       "      <td>0.426295</td>\n",
       "      <td>0.003984</td>\n",
       "    </tr>\n",
       "    <tr>\n",
       "      <th>113</th>\n",
       "      <td>0.736842</td>\n",
       "      <td>0.210526</td>\n",
       "      <td>0.052632</td>\n",
       "    </tr>\n",
       "    <tr>\n",
       "      <th>114</th>\n",
       "      <td>0.529101</td>\n",
       "      <td>0.465608</td>\n",
       "      <td>0.005291</td>\n",
       "    </tr>\n",
       "  </tbody>\n",
       "</table>\n",
       "<p>115 rows × 3 columns</p>\n",
       "</div>"
      ],
      "text/plain": [
       "       일반인구비율    고령인구비율  기초생활수급자비율\n",
       "0    0.549784  0.441558   0.008658\n",
       "1    0.481356  0.515254   0.003390\n",
       "2    0.639073  0.357616   0.003311\n",
       "3    0.508772  0.487719   0.003509\n",
       "4    0.775125  0.224597   0.000278\n",
       "..        ...       ...        ...\n",
       "110  0.519380  0.480620   0.000000\n",
       "111  0.582938  0.417062   0.000000\n",
       "112  0.569721  0.426295   0.003984\n",
       "113  0.736842  0.210526   0.052632\n",
       "114  0.529101  0.465608   0.005291\n",
       "\n",
       "[115 rows x 3 columns]"
      ]
     },
     "execution_count": 14,
     "metadata": {},
     "output_type": "execute_result"
    }
   ],
   "source": [
    "data.filter(regex='비율')"
   ]
  },
  {
   "cell_type": "markdown",
   "metadata": {},
   "source": [
    "### 전체 변수 상관관계 시각화"
   ]
  },
  {
   "cell_type": "code",
   "execution_count": 15,
   "metadata": {},
   "outputs": [
    {
     "data": {
      "text/plain": [
       "<seaborn.matrix.ClusterGrid at 0x25d24541248>"
      ]
     },
     "execution_count": 15,
     "metadata": {},
     "output_type": "execute_result"
    },
    {
     "data": {
      "image/png": "[encoded data removed]",
      "text/plain": [
       "<Figure size 720x720 with 4 Axes>"
      ]
     },
     "metadata": {},
     "output_type": "display_data"
    }
   ],
   "source": [
    "plt.rcParams['font.family'] ='Malgun Gothic'\n",
    "plt.rcParams['axes.unicode_minus'] =False\n",
    "\n",
    "\n",
    "sns.clustermap(pd.DataFrame(data, columns = data.columns).corr(), annot = True)"
   ]
  },
  {
   "cell_type": "markdown",
   "metadata": {},
   "source": [
    "### 적은 고령인구가 존재하는 지역 필터링"
   ]
  },
  {
   "cell_type": "code",
   "execution_count": 16,
   "metadata": {},
   "outputs": [
    {
     "name": "stdout",
     "output_type": "stream",
     "text": [
      " 하위 25%의 고령인구수 : 86.0\n"
     ]
    },
    {
     "data": {
      "text/html": [
       "<div>\n",
       "<style scoped>\n",
       "    .dataframe tbody tr th:only-of-type {\n",
       "        vertical-align: middle;\n",
       "    }\n",
       "\n",
       "    .dataframe tbody tr th {\n",
       "        vertical-align: top;\n",
       "    }\n",
       "\n",
       "    .dataframe thead th {\n",
       "        text-align: right;\n",
       "    }\n",
       "</style>\n",
       "<table border=\"1\" class=\"dataframe\">\n",
       "  <thead>\n",
       "    <tr style=\"text-align: right;\">\n",
       "      <th></th>\n",
       "      <th>법정동코드</th>\n",
       "      <th>총인구수</th>\n",
       "      <th>공공와이파이수</th>\n",
       "      <th>고령인구수</th>\n",
       "      <th>기초생활인구수</th>\n",
       "      <th>평균소득</th>\n",
       "      <th>프렌차이즈수</th>\n",
       "      <th>법정동명</th>\n",
       "      <th>일반인구비율</th>\n",
       "      <th>고령인구비율</th>\n",
       "      <th>기초생활수급자비율</th>\n",
       "      <th>정보화수준_역량</th>\n",
       "    </tr>\n",
       "  </thead>\n",
       "  <tbody>\n",
       "    <tr>\n",
       "      <th>113</th>\n",
       "      <td>4377033030</td>\n",
       "      <td>19.0</td>\n",
       "      <td>1.0</td>\n",
       "      <td>4.0</td>\n",
       "      <td>1</td>\n",
       "      <td>1701.22</td>\n",
       "      <td>0.0</td>\n",
       "      <td>군자리</td>\n",
       "      <td>0.736842</td>\n",
       "      <td>0.210526</td>\n",
       "      <td>0.052632</td>\n",
       "      <td>0.898579</td>\n",
       "    </tr>\n",
       "    <tr>\n",
       "      <th>66</th>\n",
       "      <td>4377025325</td>\n",
       "      <td>67.0</td>\n",
       "      <td>0.0</td>\n",
       "      <td>28.0</td>\n",
       "      <td>1</td>\n",
       "      <td>1832.39</td>\n",
       "      <td>0.0</td>\n",
       "      <td>백야리</td>\n",
       "      <td>0.567164</td>\n",
       "      <td>0.417910</td>\n",
       "      <td>0.014925</td>\n",
       "      <td>0.805388</td>\n",
       "    </tr>\n",
       "    <tr>\n",
       "      <th>88</th>\n",
       "      <td>4377036023</td>\n",
       "      <td>151.0</td>\n",
       "      <td>0.0</td>\n",
       "      <td>49.0</td>\n",
       "      <td>1</td>\n",
       "      <td>1787.73</td>\n",
       "      <td>1.0</td>\n",
       "      <td>도신리</td>\n",
       "      <td>0.668874</td>\n",
       "      <td>0.324503</td>\n",
       "      <td>0.006623</td>\n",
       "      <td>0.849258</td>\n",
       "    </tr>\n",
       "    <tr>\n",
       "      <th>80</th>\n",
       "      <td>4377036030</td>\n",
       "      <td>107.0</td>\n",
       "      <td>4.0</td>\n",
       "      <td>50.0</td>\n",
       "      <td>0</td>\n",
       "      <td>1616.03</td>\n",
       "      <td>0.0</td>\n",
       "      <td>차곡리</td>\n",
       "      <td>0.532710</td>\n",
       "      <td>0.467290</td>\n",
       "      <td>0.000000</td>\n",
       "      <td>0.783645</td>\n",
       "    </tr>\n",
       "    <tr>\n",
       "      <th>7</th>\n",
       "      <td>4377034028</td>\n",
       "      <td>142.0</td>\n",
       "      <td>0.0</td>\n",
       "      <td>55.0</td>\n",
       "      <td>0</td>\n",
       "      <td>1521.62</td>\n",
       "      <td>0.0</td>\n",
       "      <td>미곡리</td>\n",
       "      <td>0.612676</td>\n",
       "      <td>0.387324</td>\n",
       "      <td>0.000000</td>\n",
       "      <td>0.820669</td>\n",
       "    </tr>\n",
       "    <tr>\n",
       "      <th>...</th>\n",
       "      <td>...</td>\n",
       "      <td>...</td>\n",
       "      <td>...</td>\n",
       "      <td>...</td>\n",
       "      <td>...</td>\n",
       "      <td>...</td>\n",
       "      <td>...</td>\n",
       "      <td>...</td>\n",
       "      <td>...</td>\n",
       "      <td>...</td>\n",
       "      <td>...</td>\n",
       "      <td>...</td>\n",
       "    </tr>\n",
       "    <tr>\n",
       "      <th>18</th>\n",
       "      <td>4377035021</td>\n",
       "      <td>3325.0</td>\n",
       "      <td>12.0</td>\n",
       "      <td>781.0</td>\n",
       "      <td>4</td>\n",
       "      <td>2993.14</td>\n",
       "      <td>12.0</td>\n",
       "      <td>덕정리</td>\n",
       "      <td>0.763910</td>\n",
       "      <td>0.234887</td>\n",
       "      <td>0.001203</td>\n",
       "      <td>0.891157</td>\n",
       "    </tr>\n",
       "    <tr>\n",
       "      <th>4</th>\n",
       "      <td>4377025029</td>\n",
       "      <td>3602.0</td>\n",
       "      <td>5.0</td>\n",
       "      <td>809.0</td>\n",
       "      <td>1</td>\n",
       "      <td>3564.58</td>\n",
       "      <td>3.0</td>\n",
       "      <td>신천리</td>\n",
       "      <td>0.775125</td>\n",
       "      <td>0.224597</td>\n",
       "      <td>0.000278</td>\n",
       "      <td>0.895991</td>\n",
       "    </tr>\n",
       "    <tr>\n",
       "      <th>81</th>\n",
       "      <td>4377037021</td>\n",
       "      <td>5004.0</td>\n",
       "      <td>5.0</td>\n",
       "      <td>983.0</td>\n",
       "      <td>3</td>\n",
       "      <td>3296.18</td>\n",
       "      <td>4.0</td>\n",
       "      <td>오향리</td>\n",
       "      <td>0.802958</td>\n",
       "      <td>0.196443</td>\n",
       "      <td>0.000600</td>\n",
       "      <td>0.909002</td>\n",
       "    </tr>\n",
       "    <tr>\n",
       "      <th>85</th>\n",
       "      <td>4377025321</td>\n",
       "      <td>9244.0</td>\n",
       "      <td>35.0</td>\n",
       "      <td>1542.0</td>\n",
       "      <td>7</td>\n",
       "      <td>3269.70</td>\n",
       "      <td>49.0</td>\n",
       "      <td>무극리</td>\n",
       "      <td>0.832432</td>\n",
       "      <td>0.166811</td>\n",
       "      <td>0.000757</td>\n",
       "      <td>0.922710</td>\n",
       "    </tr>\n",
       "    <tr>\n",
       "      <th>43</th>\n",
       "      <td>4377025021</td>\n",
       "      <td>8910.0</td>\n",
       "      <td>42.0</td>\n",
       "      <td>2095.0</td>\n",
       "      <td>13</td>\n",
       "      <td>3371.74</td>\n",
       "      <td>34.0</td>\n",
       "      <td>읍내리</td>\n",
       "      <td>0.763412</td>\n",
       "      <td>0.235129</td>\n",
       "      <td>0.001459</td>\n",
       "      <td>0.891026</td>\n",
       "    </tr>\n",
       "  </tbody>\n",
       "</table>\n",
       "<p>115 rows × 12 columns</p>\n",
       "</div>"
      ],
      "text/plain": [
       "          법정동코드    총인구수  공공와이파이수   고령인구수  기초생활인구수     평균소득  프렌차이즈수 법정동명  \\\n",
       "113  4377033030    19.0      1.0     4.0        1  1701.22     0.0  군자리   \n",
       "66   4377025325    67.0      0.0    28.0        1  1832.39     0.0  백야리   \n",
       "88   4377036023   151.0      0.0    49.0        1  1787.73     1.0  도신리   \n",
       "80   4377036030   107.0      4.0    50.0        0  1616.03     0.0  차곡리   \n",
       "7    4377034028   142.0      0.0    55.0        0  1521.62     0.0  미곡리   \n",
       "..          ...     ...      ...     ...      ...      ...     ...  ...   \n",
       "18   4377035021  3325.0     12.0   781.0        4  2993.14    12.0  덕정리   \n",
       "4    4377025029  3602.0      5.0   809.0        1  3564.58     3.0  신천리   \n",
       "81   4377037021  5004.0      5.0   983.0        3  3296.18     4.0  오향리   \n",
       "85   4377025321  9244.0     35.0  1542.0        7  3269.70    49.0  무극리   \n",
       "43   4377025021  8910.0     42.0  2095.0       13  3371.74    34.0  읍내리   \n",
       "\n",
       "       일반인구비율    고령인구비율  기초생활수급자비율  정보화수준_역량  \n",
       "113  0.736842  0.210526   0.052632  0.898579  \n",
       "66   0.567164  0.417910   0.014925  0.805388  \n",
       "88   0.668874  0.324503   0.006623  0.849258  \n",
       "80   0.532710  0.467290   0.000000  0.783645  \n",
       "7    0.612676  0.387324   0.000000  0.820669  \n",
       "..        ...       ...        ...       ...  \n",
       "18   0.763910  0.234887   0.001203  0.891157  \n",
       "4    0.775125  0.224597   0.000278  0.895991  \n",
       "81   0.802958  0.196443   0.000600  0.909002  \n",
       "85   0.832432  0.166811   0.000757  0.922710  \n",
       "43   0.763412  0.235129   0.001459  0.891026  \n",
       "\n",
       "[115 rows x 12 columns]"
      ]
     },
     "execution_count": 16,
     "metadata": {},
     "output_type": "execute_result"
    }
   ],
   "source": [
    "고령_25 = np.quantile(data['고령인구수'], 0.25)\n",
    "print(f' 하위 25%의 고령인구수 : {고령_25}')\n",
    "\n",
    "data.sort_values(by = '고령인구수')"
   ]
  },
  {
   "cell_type": "code",
   "execution_count": 17,
   "metadata": {
    "scrolled": true
   },
   "outputs": [],
   "source": [
    "data_new = data[data['고령인구수'] > np.quantile(data['고령인구수'], 0.25)].reset_index()"
   ]
  },
  {
   "cell_type": "code",
   "execution_count": 8,
   "metadata": {},
   "outputs": [],
   "source": [
    "#!pip install pandas_profiling\n",
    "features = ['기초생활수급자비율',\n",
    "            '정보화수준_역량','평균소득','프렌차이즈수', '고령인구비율']"
   ]
  },
  {
   "cell_type": "code",
   "execution_count": 9,
   "metadata": {},
   "outputs": [],
   "source": [
    "data_new = data_new[features]"
   ]
  },
  {
   "cell_type": "markdown",
   "metadata": {},
   "source": [
    "### 데이터 프로파일링"
   ]
  },
  {
   "cell_type": "code",
   "execution_count": 10,
   "metadata": {
    "scrolled": true
   },
   "outputs": [
    {
     "data": {
      "application/vnd.jupyter.widget-view+json": {
       "model_id": "ec01a90a7dcc4ec482ec824b8c120ad6",
       "version_major": 2,
       "version_minor": 0
      },
      "text/plain": [
       "Tab(children=(HTML(value='<div id=\"overview-content\" class=\"row variable spacing\">\\n    <div class=\"row\">\\n   …"
      ]
     },
     "metadata": {},
     "output_type": "display_data"
    },
    {
     "data": {
      "text/html": [
       "Report generated with <a href=\"https://github.com/pandas-profiling/pandas-profiling\">pandas-profiling</a>."
      ],
      "text/plain": [
       "<IPython.core.display.HTML object>"
      ]
     },
     "metadata": {},
     "output_type": "display_data"
    }
   ],
   "source": [
    "pr=data_new.profile_report()\n",
    "\n",
    "\n",
    "pr.to_widgets()"
   ]
  },
  {
   "cell_type": "markdown",
   "metadata": {},
   "source": [
    "### 특정 변수만을 이용"
   ]
  },
  {
   "cell_type": "code",
   "execution_count": 40,
   "metadata": {},
   "outputs": [
    {
     "data": {
      "text/html": [
       "<div>\n",
       "<style scoped>\n",
       "    .dataframe tbody tr th:only-of-type {\n",
       "        vertical-align: middle;\n",
       "    }\n",
       "\n",
       "    .dataframe tbody tr th {\n",
       "        vertical-align: top;\n",
       "    }\n",
       "\n",
       "    .dataframe thead th {\n",
       "        text-align: right;\n",
       "    }\n",
       "</style>\n",
       "<table border=\"1\" class=\"dataframe\">\n",
       "  <thead>\n",
       "    <tr style=\"text-align: right;\">\n",
       "      <th></th>\n",
       "      <th>기초생활수급자비율</th>\n",
       "      <th>정보화수준_역량</th>\n",
       "      <th>평균소득</th>\n",
       "      <th>프렌차이즈수</th>\n",
       "      <th>고령인구비율</th>\n",
       "    </tr>\n",
       "  </thead>\n",
       "  <tbody>\n",
       "    <tr>\n",
       "      <th>0</th>\n",
       "      <td>0.008658</td>\n",
       "      <td>0.794909</td>\n",
       "      <td>2112.63</td>\n",
       "      <td>0.0</td>\n",
       "      <td>0.441558</td>\n",
       "    </tr>\n",
       "    <tr>\n",
       "      <th>1</th>\n",
       "      <td>0.003390</td>\n",
       "      <td>0.761183</td>\n",
       "      <td>1737.02</td>\n",
       "      <td>0.0</td>\n",
       "      <td>0.515254</td>\n",
       "    </tr>\n",
       "    <tr>\n",
       "      <th>2</th>\n",
       "      <td>0.003311</td>\n",
       "      <td>0.834175</td>\n",
       "      <td>1473.06</td>\n",
       "      <td>0.0</td>\n",
       "      <td>0.357616</td>\n",
       "    </tr>\n",
       "    <tr>\n",
       "      <th>3</th>\n",
       "      <td>0.003509</td>\n",
       "      <td>0.773923</td>\n",
       "      <td>2185.76</td>\n",
       "      <td>0.0</td>\n",
       "      <td>0.487719</td>\n",
       "    </tr>\n",
       "    <tr>\n",
       "      <th>4</th>\n",
       "      <td>0.000278</td>\n",
       "      <td>0.895991</td>\n",
       "      <td>3564.58</td>\n",
       "      <td>3.0</td>\n",
       "      <td>0.224597</td>\n",
       "    </tr>\n",
       "    <tr>\n",
       "      <th>...</th>\n",
       "      <td>...</td>\n",
       "      <td>...</td>\n",
       "      <td>...</td>\n",
       "      <td>...</td>\n",
       "      <td>...</td>\n",
       "    </tr>\n",
       "    <tr>\n",
       "      <th>79</th>\n",
       "      <td>0.000000</td>\n",
       "      <td>0.764736</td>\n",
       "      <td>1743.28</td>\n",
       "      <td>0.0</td>\n",
       "      <td>0.508130</td>\n",
       "    </tr>\n",
       "    <tr>\n",
       "      <th>80</th>\n",
       "      <td>0.002506</td>\n",
       "      <td>0.825752</td>\n",
       "      <td>1932.11</td>\n",
       "      <td>1.0</td>\n",
       "      <td>0.375940</td>\n",
       "    </tr>\n",
       "    <tr>\n",
       "      <th>81</th>\n",
       "      <td>0.000000</td>\n",
       "      <td>0.806900</td>\n",
       "      <td>1672.74</td>\n",
       "      <td>0.0</td>\n",
       "      <td>0.417062</td>\n",
       "    </tr>\n",
       "    <tr>\n",
       "      <th>82</th>\n",
       "      <td>0.003984</td>\n",
       "      <td>0.802327</td>\n",
       "      <td>1833.35</td>\n",
       "      <td>0.0</td>\n",
       "      <td>0.426295</td>\n",
       "    </tr>\n",
       "    <tr>\n",
       "      <th>83</th>\n",
       "      <td>0.005291</td>\n",
       "      <td>0.784026</td>\n",
       "      <td>1773.51</td>\n",
       "      <td>0.0</td>\n",
       "      <td>0.465608</td>\n",
       "    </tr>\n",
       "  </tbody>\n",
       "</table>\n",
       "<p>84 rows × 5 columns</p>\n",
       "</div>"
      ],
      "text/plain": [
       "    기초생활수급자비율  정보화수준_역량     평균소득  프렌차이즈수    고령인구비율\n",
       "0    0.008658  0.794909  2112.63     0.0  0.441558\n",
       "1    0.003390  0.761183  1737.02     0.0  0.515254\n",
       "2    0.003311  0.834175  1473.06     0.0  0.357616\n",
       "3    0.003509  0.773923  2185.76     0.0  0.487719\n",
       "4    0.000278  0.895991  3564.58     3.0  0.224597\n",
       "..        ...       ...      ...     ...       ...\n",
       "79   0.000000  0.764736  1743.28     0.0  0.508130\n",
       "80   0.002506  0.825752  1932.11     1.0  0.375940\n",
       "81   0.000000  0.806900  1672.74     0.0  0.417062\n",
       "82   0.003984  0.802327  1833.35     0.0  0.426295\n",
       "83   0.005291  0.784026  1773.51     0.0  0.465608\n",
       "\n",
       "[84 rows x 5 columns]"
      ]
     },
     "execution_count": 40,
     "metadata": {},
     "output_type": "execute_result"
    }
   ],
   "source": [
    "data_new"
   ]
  },
  {
   "cell_type": "markdown",
   "metadata": {},
   "source": [
    "### PCA"
   ]
  },
  {
   "cell_type": "code",
   "execution_count": 11,
   "metadata": {},
   "outputs": [
    {
     "name": "stdout",
     "output_type": "stream",
     "text": [
      "         PC1       PC2       PC3       PC4           PC5\n",
      "0  -1.200516  2.097935 -0.106738  0.395977  2.464612e-09\n",
      "1  -1.726992  0.083224  0.395997  0.334148  7.373633e-10\n",
      "2  -0.514463  0.285344 -0.367576 -0.850850  3.097459e-09\n",
      "3  -1.206668  0.204459  0.210540  0.672792 -1.701417e-09\n",
      "4   2.343651 -0.366604 -0.851392  0.596552  3.668699e-09\n",
      "..       ...       ...       ...       ...           ...\n",
      "79 -1.430340 -1.106912  0.420723  0.257635 -5.358376e-09\n",
      "80 -0.275789  0.022768 -0.194025 -0.272200  6.182220e-09\n",
      "81 -0.680353 -0.967611 -0.029445 -0.336286 -6.728391e-10\n",
      "82 -0.928733  0.442987 -0.071052 -0.056849 -1.334034e-09\n",
      "83 -1.399277  0.839167  0.108782  0.116869  1.075796e-09\n",
      "\n",
      "[84 rows x 5 columns]\n",
      "------------------------\n",
      "각 주성분의 분산 설명량 비율\n",
      "[6.48342515e-01 1.84275118e-01 1.19426106e-01 4.79562598e-02\n",
      " 2.81228953e-18]\n"
     ]
    }
   ],
   "source": [
    "scaler = StandardScaler().fit_transform(data_new) # 스케일링\n",
    "\n",
    "from sklearn.decomposition import PCA\n",
    "\n",
    "pca = PCA(n_components=5) # 주성분 5개로 설정\n",
    "\n",
    "printcipalComponents = pca.fit_transform(scaler)\n",
    "pca_data = pd.DataFrame(data=printcipalComponents, columns = ['PC1', 'PC2','PC3','PC4','PC5'])\n",
    "\n",
    "pca.explained_variance_ # eigen vactor\n",
    "\n",
    "print(pca_data) \n",
    "# PC score \n",
    "# X의 자료에 eigen vector를 곱한 값, 새로운 공간에서 좌표값으로 나타남\n",
    "\n",
    "print('------------------------')\n",
    "\n",
    "print(f'각 주성분의 분산 설명량 비율\\n{pca.explained_variance_ratio_}') \n",
    "#각 주성분의 분산 설명량 비율 = 각 주성분의 고윳값이 차지하는 비율\n"
   ]
  },
  {
   "cell_type": "markdown",
   "metadata": {},
   "source": [
    "* PCA 요소"
   ]
  },
  {
   "cell_type": "code",
   "execution_count": 12,
   "metadata": {
    "scrolled": true
   },
   "outputs": [
    {
     "name": "stdout",
     "output_type": "stream",
     "text": [
      "[[-1.85973974e-01  9.80645677e-01 -5.09752900e-02  3.37998505e-02\n",
      "   2.61275992e-03]\n",
      " [ 5.29320208e-01  9.45335988e-02 -3.04054034e-01 -3.43542590e-01\n",
      "   7.07398862e-01]\n",
      " [ 5.01649957e-01  6.14369427e-02 -7.84982299e-02  8.59308356e-01\n",
      "  -7.48974175e-11]\n",
      " [ 3.91997327e-01  1.26381842e-01  8.97815652e-01 -1.55861415e-01\n",
      "  -2.59615375e-11]\n",
      " [-5.29073922e-01 -9.82373996e-02  3.04495890e-01  3.43703982e-01\n",
      "   7.06809751e-01]]\n",
      "------------------------\n",
      "[6.48342515e-01 1.84275118e-01 1.19426106e-01 4.79562598e-02\n",
      " 2.81228953e-18]\n"
     ]
    }
   ],
   "source": [
    "print(pca.components_.T) # loadings\n",
    "print('------------------------')\n",
    "print(pca.explained_variance_ratio_) #각 주성분의 분산 설명량 비율 = 각 주성분의 고윳값이 차지하는 비율"
   ]
  },
  {
   "cell_type": "markdown",
   "metadata": {},
   "source": [
    "* elbow plot"
   ]
  },
  {
   "cell_type": "code",
   "execution_count": 60,
   "metadata": {},
   "outputs": [
    {
     "data": {
      "image/png": "[encoded data removed]",
      "text/plain": [
       "<Figure size 576x396 with 1 Axes>"
      ]
     },
     "metadata": {},
     "output_type": "display_data"
    }
   ],
   "source": [
    "PC_values = np.arange(pca.n_components_) + 1\n",
    "plt.plot(PC_values, pca.explained_variance_ratio_, 'ro-', linewidth=2)\n",
    "plt.title('Scree Plot')\n",
    "plt.xlabel('Principal Component')\n",
    "plt.ylabel('Proportion of Variance Explained')\n",
    "plt.xticks(np.arange(1,6))\n",
    "plt.show()"
   ]
  },
  {
   "cell_type": "markdown",
   "metadata": {},
   "source": [
    "-- 주성분개수는 2개로 결정"
   ]
  },
  {
   "cell_type": "code",
   "execution_count": null,
   "metadata": {},
   "outputs": [],
   "source": []
  },
  {
   "cell_type": "markdown",
   "metadata": {},
   "source": [
    "* matplotlib rcParams요소 확인"
   ]
  },
  {
   "cell_type": "code",
   "execution_count": 104,
   "metadata": {
    "scrolled": true
   },
   "outputs": [
    {
     "name": "stdout",
     "output_type": "stream",
     "text": [
      "{'boxplot', 'figure', 'pgf', 'webagg', 'patch', 'ytick', 'animation', 'pdf', 'docstring', 'date', 'contour', 'polaraxes', 'ps', 'font', 'tk', 'scatter', '_internal', 'image', 'keymap', 'mpl_toolkits', 'yaxis', 'savefig', 'agg', 'hist', 'lines', 'text', 'xtick', 'grid', 'legend', 'markers', 'pcolor', 'errorbar', 'mathtext', 'path', 'xaxis', 'axes3d', 'svg', 'hatch', 'axes'}\n"
     ]
    }
   ],
   "source": [
    "import matplotlib \n",
    "\n",
    "Artists = set()\n",
    "for key in matplotlib.rcParams.keys():\n",
    "    if \".\" in key:\n",
    "        Artists .add(key.split(\".\")[0])\n",
    "\n",
    "print(Artists)"
   ]
  },
  {
   "cell_type": "markdown",
   "metadata": {},
   "source": [
    "* biplot 함수 생성"
   ]
  },
  {
   "cell_type": "code",
   "execution_count": 115,
   "metadata": {},
   "outputs": [],
   "source": [
    "def biplot(score,coeff,y=None,labels=None):\n",
    "    xs = score[:,0] # projection of PC1\n",
    "    ys = score[:,1] # projection of PC2\n",
    "    n = coeff.shape[0]\n",
    "    scalex = 1.0/(xs.max() - xs.min())\n",
    "    scaley = 1.0/(ys.max() - ys.min())\n",
    "    plt.scatter(xs * scalex,ys * scaley, c = y)\n",
    "    \n",
    "    \n",
    "    # aggiungo frecce\n",
    "    for i in range(n):\n",
    "        plt.arrow(0, 0, coeff[i,0], coeff[i,1],color = 'r',alpha = 0.5,\n",
    "                 head_width = 0.02, width = 0.005)\n",
    "        if labels is None:\n",
    "            plt.text(coeff[i,0]+0.01, coeff[i,1]+0.01, \"Var\"+str(i+1), color = 'g', ha = 'center', va = 'center')\n",
    "        else:\n",
    "            plt.text(coeff[i,0]+0.01, coeff[i,1]+0.01, labels[i], color = 'g', ha = 'center', va = 'center')\n",
    "\n",
    "    # aggiungo flag outliers\n",
    "    for i in range(len(xs)):\n",
    "        if ((xs[i]>np.quantile(xs,0.99)) | (ys[i]>np.quantile(xs,0.99))):\n",
    "            plt.text(xs[i] * scalex,ys[i] * scaley, str(i), size = 20)\n",
    "\n",
    "            \n",
    "            \n",
    "            \n",
    "\n",
    "    # etichette\n",
    "    plt.xlabel(\"PC{}\".format(1), size=14)\n",
    "    plt.ylabel(\"PC{}\".format(2), size=14)\n",
    "    plt.grid = True\n",
    "    plt.tick_params(axis='both', which='both', labelsize=14)\n",
    "    plt.tight_layout()\n"
   ]
  },
  {
   "cell_type": "code",
   "execution_count": 117,
   "metadata": {},
   "outputs": [],
   "source": [
    "plt.style.use('default')"
   ]
  },
  {
   "cell_type": "code",
   "execution_count": 126,
   "metadata": {
    "scrolled": true
   },
   "outputs": [
    {
     "data": {
      "text/plain": [
       "Text(0.5, 1.0, '주성분분석')"
      ]
     },
     "execution_count": 126,
     "metadata": {},
     "output_type": "execute_result"
    },
    {
     "data": {
      "image/png": "[encoded data removed]",
      "text/plain": [
       "<Figure size 1200x1000 with 1 Axes>"
      ]
     },
     "metadata": {},
     "output_type": "display_data"
    }
   ],
   "source": [
    "plt.figure(figsize=(12,10))\n",
    "\n",
    "plt.rcParams['font.family'] ='Malgun Gothic'\n",
    "plt.rcParams['axes.unicode_minus'] =False\n",
    "#plt.rcParams['axes.facecolor'] = 'white'\n",
    "#plt.rcParams['axes.grid'] = True\n",
    "#plt.rcParams['axes.edgecolor'] = \"black\"\n",
    "\n",
    "biplot(score=printcipalComponents,coeff=np.transpose(pca.components_),labels= features)\n",
    "plt.title('주성분분석', fontsize = 20)\n"
   ]
  },
  {
   "cell_type": "code",
   "execution_count": 39,
   "metadata": {},
   "outputs": [],
   "source": [
    "# PC1 : 값이 클수록 고령인구비율이 적고 잘 사는 지역\n",
    "# PC2 : 값이 클수록 기초수급자비율이 높은 지역"
   ]
  },
  {
   "cell_type": "code",
   "execution_count": null,
   "metadata": {},
   "outputs": [],
   "source": []
  },
  {
   "cell_type": "markdown",
   "metadata": {},
   "source": [
    "### 그룹이름을 a, b , c로 나타냄.\n",
    "#### 우선지역은 a < b < c 순이다."
   ]
  },
  {
   "cell_type": "markdown",
   "metadata": {},
   "source": [
    "### K-means"
   ]
  },
  {
   "cell_type": "code",
   "execution_count": 127,
   "metadata": {},
   "outputs": [
    {
     "data": {
      "image/png": "[encoded data removed]",
      "text/plain": [
       "<Figure size 640x480 with 1 Axes>"
      ]
     },
     "metadata": {},
     "output_type": "display_data"
    }
   ],
   "source": [
    "distortions = []\n",
    "for i in range(1, 11):\n",
    "    km = KMeans(\n",
    "        n_clusters=i, init='k-means++',\n",
    "        n_init=10, max_iter=300,\n",
    "        tol=1e-04, random_state=0\n",
    "    )\n",
    "    km.fit(pca_data)\n",
    "    distortions.append(km.inertia_) # 군집 내 분산, 적을수록 좋음\n",
    "\n",
    "# plot - 급격하게 줄어드는 부분\n",
    "plt.plot(range(1, 11), distortions, marker='o')\n",
    "plt.xlabel('Number of clusters')\n",
    "plt.ylabel('WCSS')\n",
    "plt.show()"
   ]
  },
  {
   "cell_type": "code",
   "execution_count": null,
   "metadata": {},
   "outputs": [],
   "source": []
  },
  {
   "cell_type": "code",
   "execution_count": 129,
   "metadata": {},
   "outputs": [],
   "source": [
    "pca_raw = pca_data[['PC1','PC2']]"
   ]
  },
  {
   "cell_type": "code",
   "execution_count": null,
   "metadata": {},
   "outputs": [],
   "source": []
  },
  {
   "cell_type": "code",
   "execution_count": 89,
   "metadata": {},
   "outputs": [],
   "source": [
    "k_means = KMeans(init='k-means++', n_clusters=3, n_init=10)\n",
    "k_means.fit(pca_raw)\n",
    "k_means_labels = k_means.labels_\n",
    "k_means_cluster_centers = k_means.cluster_centers_\n",
    "k_means_labels_unique = np.unique(k_means_labels)"
   ]
  },
  {
   "cell_type": "code",
   "execution_count": 90,
   "metadata": {},
   "outputs": [],
   "source": [
    "pca_data['kmeans_cluster'] = k_means.labels_"
   ]
  },
  {
   "cell_type": "code",
   "execution_count": 91,
   "metadata": {},
   "outputs": [
    {
     "data": {
      "text/plain": [
       "Text(0.5, 1.0, 'K-means')"
      ]
     },
     "execution_count": 91,
     "metadata": {},
     "output_type": "execute_result"
    },
    {
     "data": {
      "image/png": "[encoded data removed]",
      "text/plain": [
       "<Figure size 509x432 with 1 Axes>"
      ]
     },
     "metadata": {},
     "output_type": "display_data"
    }
   ],
   "source": [
    "sns.relplot(\n",
    "    x=\"PC1\", y=\"PC2\", hue=\"kmeans_cluster\", \n",
    "    data=pca_data, height=6,\n",
    ");\n",
    "plt.title('K-means', size = 20)"
   ]
  },
  {
   "cell_type": "code",
   "execution_count": 45,
   "metadata": {},
   "outputs": [
    {
     "data": {
      "text/html": [
       "<div>\n",
       "<style scoped>\n",
       "    .dataframe tbody tr th:only-of-type {\n",
       "        vertical-align: middle;\n",
       "    }\n",
       "\n",
       "    .dataframe tbody tr th {\n",
       "        vertical-align: top;\n",
       "    }\n",
       "\n",
       "    .dataframe thead th {\n",
       "        text-align: right;\n",
       "    }\n",
       "</style>\n",
       "<table border=\"1\" class=\"dataframe\">\n",
       "  <thead>\n",
       "    <tr style=\"text-align: right;\">\n",
       "      <th></th>\n",
       "      <th>PC1</th>\n",
       "      <th>PC2</th>\n",
       "    </tr>\n",
       "    <tr>\n",
       "      <th>kmeans_cluster</th>\n",
       "      <th></th>\n",
       "      <th></th>\n",
       "    </tr>\n",
       "  </thead>\n",
       "  <tbody>\n",
       "    <tr>\n",
       "      <th>0</th>\n",
       "      <td>-0.915937</td>\n",
       "      <td>1.303739</td>\n",
       "    </tr>\n",
       "    <tr>\n",
       "      <th>1</th>\n",
       "      <td>-0.650582</td>\n",
       "      <td>-0.546740</td>\n",
       "    </tr>\n",
       "    <tr>\n",
       "      <th>2</th>\n",
       "      <td>3.135088</td>\n",
       "      <td>0.166254</td>\n",
       "    </tr>\n",
       "  </tbody>\n",
       "</table>\n",
       "</div>"
      ],
      "text/plain": [
       "                     PC1       PC2\n",
       "kmeans_cluster                    \n",
       "0              -0.915937  1.303739\n",
       "1              -0.650582 -0.546740\n",
       "2               3.135088  0.166254"
      ]
     },
     "execution_count": 45,
     "metadata": {},
     "output_type": "execute_result"
    }
   ],
   "source": [
    "pca_data.groupby('kmeans_cluster')[['PC1','PC2']].mean()\n",
    "\n",
    "# PC1 : 값이 클수록 고령인구비율이 적고 잘 사는 지역\n",
    "# PC2 : 값이 클수록 기초수급자비율이 높은 지역\n"
   ]
  },
  {
   "cell_type": "code",
   "execution_count": 92,
   "metadata": {},
   "outputs": [],
   "source": [
    "pca_data.kmeans_cluster[pca_data.kmeans_cluster == 0] = 'c'\n",
    "pca_data.kmeans_cluster[pca_data.kmeans_cluster == 1] = 'a'\n",
    "pca_data.kmeans_cluster[pca_data.kmeans_cluster == 2] = 'b'"
   ]
  },
  {
   "cell_type": "code",
   "execution_count": 93,
   "metadata": {},
   "outputs": [
    {
     "data": {
      "text/html": [
       "<div>\n",
       "<style scoped>\n",
       "    .dataframe tbody tr th:only-of-type {\n",
       "        vertical-align: middle;\n",
       "    }\n",
       "\n",
       "    .dataframe tbody tr th {\n",
       "        vertical-align: top;\n",
       "    }\n",
       "\n",
       "    .dataframe thead th {\n",
       "        text-align: right;\n",
       "    }\n",
       "</style>\n",
       "<table border=\"1\" class=\"dataframe\">\n",
       "  <thead>\n",
       "    <tr style=\"text-align: right;\">\n",
       "      <th></th>\n",
       "      <th>PC1</th>\n",
       "      <th>PC2</th>\n",
       "      <th>PC3</th>\n",
       "      <th>PC4</th>\n",
       "      <th>PC5</th>\n",
       "      <th>kmeans_cluster</th>\n",
       "    </tr>\n",
       "  </thead>\n",
       "  <tbody>\n",
       "    <tr>\n",
       "      <th>0</th>\n",
       "      <td>-1.200516</td>\n",
       "      <td>2.097935</td>\n",
       "      <td>-0.106738</td>\n",
       "      <td>0.395977</td>\n",
       "      <td>2.464612e-09</td>\n",
       "      <td>c</td>\n",
       "    </tr>\n",
       "    <tr>\n",
       "      <th>1</th>\n",
       "      <td>-1.726992</td>\n",
       "      <td>0.083224</td>\n",
       "      <td>0.395997</td>\n",
       "      <td>0.334148</td>\n",
       "      <td>7.373633e-10</td>\n",
       "      <td>c</td>\n",
       "    </tr>\n",
       "    <tr>\n",
       "      <th>2</th>\n",
       "      <td>-0.514463</td>\n",
       "      <td>0.285344</td>\n",
       "      <td>-0.367576</td>\n",
       "      <td>-0.850850</td>\n",
       "      <td>3.097459e-09</td>\n",
       "      <td>b</td>\n",
       "    </tr>\n",
       "    <tr>\n",
       "      <th>3</th>\n",
       "      <td>-1.206668</td>\n",
       "      <td>0.204459</td>\n",
       "      <td>0.210540</td>\n",
       "      <td>0.672792</td>\n",
       "      <td>-1.701417e-09</td>\n",
       "      <td>c</td>\n",
       "    </tr>\n",
       "    <tr>\n",
       "      <th>4</th>\n",
       "      <td>2.343651</td>\n",
       "      <td>-0.366604</td>\n",
       "      <td>-0.851392</td>\n",
       "      <td>0.596552</td>\n",
       "      <td>3.668699e-09</td>\n",
       "      <td>a</td>\n",
       "    </tr>\n",
       "    <tr>\n",
       "      <th>...</th>\n",
       "      <td>...</td>\n",
       "      <td>...</td>\n",
       "      <td>...</td>\n",
       "      <td>...</td>\n",
       "      <td>...</td>\n",
       "      <td>...</td>\n",
       "    </tr>\n",
       "    <tr>\n",
       "      <th>79</th>\n",
       "      <td>-1.430340</td>\n",
       "      <td>-1.106912</td>\n",
       "      <td>0.420723</td>\n",
       "      <td>0.257635</td>\n",
       "      <td>-5.358376e-09</td>\n",
       "      <td>b</td>\n",
       "    </tr>\n",
       "    <tr>\n",
       "      <th>80</th>\n",
       "      <td>-0.275789</td>\n",
       "      <td>0.022768</td>\n",
       "      <td>-0.194025</td>\n",
       "      <td>-0.272200</td>\n",
       "      <td>6.182220e-09</td>\n",
       "      <td>b</td>\n",
       "    </tr>\n",
       "    <tr>\n",
       "      <th>81</th>\n",
       "      <td>-0.680353</td>\n",
       "      <td>-0.967611</td>\n",
       "      <td>-0.029445</td>\n",
       "      <td>-0.336286</td>\n",
       "      <td>-6.728391e-10</td>\n",
       "      <td>b</td>\n",
       "    </tr>\n",
       "    <tr>\n",
       "      <th>82</th>\n",
       "      <td>-0.928733</td>\n",
       "      <td>0.442987</td>\n",
       "      <td>-0.071052</td>\n",
       "      <td>-0.056849</td>\n",
       "      <td>-1.334034e-09</td>\n",
       "      <td>c</td>\n",
       "    </tr>\n",
       "    <tr>\n",
       "      <th>83</th>\n",
       "      <td>-1.399277</td>\n",
       "      <td>0.839167</td>\n",
       "      <td>0.108782</td>\n",
       "      <td>0.116869</td>\n",
       "      <td>1.075796e-09</td>\n",
       "      <td>c</td>\n",
       "    </tr>\n",
       "  </tbody>\n",
       "</table>\n",
       "<p>84 rows × 6 columns</p>\n",
       "</div>"
      ],
      "text/plain": [
       "         PC1       PC2       PC3       PC4           PC5 kmeans_cluster\n",
       "0  -1.200516  2.097935 -0.106738  0.395977  2.464612e-09              c\n",
       "1  -1.726992  0.083224  0.395997  0.334148  7.373633e-10              c\n",
       "2  -0.514463  0.285344 -0.367576 -0.850850  3.097459e-09              b\n",
       "3  -1.206668  0.204459  0.210540  0.672792 -1.701417e-09              c\n",
       "4   2.343651 -0.366604 -0.851392  0.596552  3.668699e-09              a\n",
       "..       ...       ...       ...       ...           ...            ...\n",
       "79 -1.430340 -1.106912  0.420723  0.257635 -5.358376e-09              b\n",
       "80 -0.275789  0.022768 -0.194025 -0.272200  6.182220e-09              b\n",
       "81 -0.680353 -0.967611 -0.029445 -0.336286 -6.728391e-10              b\n",
       "82 -0.928733  0.442987 -0.071052 -0.056849 -1.334034e-09              c\n",
       "83 -1.399277  0.839167  0.108782  0.116869  1.075796e-09              c\n",
       "\n",
       "[84 rows x 6 columns]"
      ]
     },
     "execution_count": 93,
     "metadata": {},
     "output_type": "execute_result"
    }
   ],
   "source": [
    "pca_data"
   ]
  },
  {
   "cell_type": "code",
   "execution_count": 131,
   "metadata": {},
   "outputs": [
    {
     "data": {
      "image/png": "[encoded data removed]",
      "text/plain": [
       "<Figure size 640x480 with 1 Axes>"
      ]
     },
     "metadata": {},
     "output_type": "display_data"
    }
   ],
   "source": [
    "WCSS = []\n",
    "for i in range(1, 11):\n",
    "    km = KMedoids(\n",
    "        n_clusters=i\n",
    "    )\n",
    "    km.fit(pca_raw)\n",
    "    WCSS.append(km.inertia_) # 군집 내 분산, 적을수록 좋음\n",
    "\n",
    "# plot - 급격하게 줄어드는 부분\n",
    "plt.plot(range(1, 11), distortions, marker='o')\n",
    "plt.xlabel('Number of clusters')\n",
    "plt.ylabel('WCSS')\n",
    "plt.show()"
   ]
  },
  {
   "cell_type": "code",
   "execution_count": 95,
   "metadata": {},
   "outputs": [],
   "source": [
    "kmedoids = KMedoids(n_clusters=3, random_state=0).fit(pca_raw)\n",
    "pca_data['kmedoids_cluster'] = kmedoids.labels_    "
   ]
  },
  {
   "cell_type": "code",
   "execution_count": 96,
   "metadata": {},
   "outputs": [
    {
     "data": {
      "text/plain": [
       "Text(0.5, 1.0, 'K-medoids')"
      ]
     },
     "execution_count": 96,
     "metadata": {},
     "output_type": "execute_result"
    },
    {
     "data": {
      "image/png": "[encoded data removed]",
      "text/plain": [
       "<Figure size 518.375x432 with 1 Axes>"
      ]
     },
     "metadata": {},
     "output_type": "display_data"
    }
   ],
   "source": [
    "sns.relplot(\n",
    "    x=\"PC1\", y=\"PC2\", hue=\"kmedoids_cluster\", \n",
    "    data=pca_data, height=6,\n",
    ");\n",
    "plt.title('K-medoids', size = 20)"
   ]
  },
  {
   "cell_type": "code",
   "execution_count": 97,
   "metadata": {},
   "outputs": [
    {
     "data": {
      "text/html": [
       "<div>\n",
       "<style scoped>\n",
       "    .dataframe tbody tr th:only-of-type {\n",
       "        vertical-align: middle;\n",
       "    }\n",
       "\n",
       "    .dataframe tbody tr th {\n",
       "        vertical-align: top;\n",
       "    }\n",
       "\n",
       "    .dataframe thead th {\n",
       "        text-align: right;\n",
       "    }\n",
       "</style>\n",
       "<table border=\"1\" class=\"dataframe\">\n",
       "  <thead>\n",
       "    <tr style=\"text-align: right;\">\n",
       "      <th></th>\n",
       "      <th>PC1</th>\n",
       "      <th>PC2</th>\n",
       "    </tr>\n",
       "    <tr>\n",
       "      <th>kmedoids_cluster</th>\n",
       "      <th></th>\n",
       "      <th></th>\n",
       "    </tr>\n",
       "  </thead>\n",
       "  <tbody>\n",
       "    <tr>\n",
       "      <th>0</th>\n",
       "      <td>2.858139</td>\n",
       "      <td>0.194113</td>\n",
       "    </tr>\n",
       "    <tr>\n",
       "      <th>1</th>\n",
       "      <td>-0.565157</td>\n",
       "      <td>-0.874056</td>\n",
       "    </tr>\n",
       "    <tr>\n",
       "      <th>2</th>\n",
       "      <td>-1.097564</td>\n",
       "      <td>0.735808</td>\n",
       "    </tr>\n",
       "  </tbody>\n",
       "</table>\n",
       "</div>"
      ],
      "text/plain": [
       "                       PC1       PC2\n",
       "kmedoids_cluster                    \n",
       "0                 2.858139  0.194113\n",
       "1                -0.565157 -0.874056\n",
       "2                -1.097564  0.735808"
      ]
     },
     "execution_count": 97,
     "metadata": {},
     "output_type": "execute_result"
    }
   ],
   "source": [
    "pca_data.groupby('kmedoids_cluster')[['PC1','PC2']].mean()\n",
    "\n",
    "# PC1 : 값이 클수록 고령인구비율이 적고 잘 사는 지역\n",
    "# PC2 : 값이 클수록 기초수급자비율이 높은 지역\n",
    "\n",
    "# 0 : 고령인구비율이 높고 못 사는 지역\n",
    "# 1 : 잘 사는 지역\n",
    "# 2 : 어정쩡한 지역"
   ]
  },
  {
   "cell_type": "code",
   "execution_count": 98,
   "metadata": {},
   "outputs": [],
   "source": [
    "pca_data.kmedoids_cluster[pca_data.kmedoids_cluster == 0] = 'a'\n",
    "pca_data.kmedoids_cluster[pca_data.kmedoids_cluster == 1] = 'b'\n",
    "pca_data.kmedoids_cluster[pca_data.kmedoids_cluster == 2] = 'c'"
   ]
  },
  {
   "cell_type": "code",
   "execution_count": 99,
   "metadata": {},
   "outputs": [
    {
     "data": {
      "text/plain": [
       "33"
      ]
     },
     "execution_count": 99,
     "metadata": {},
     "output_type": "execute_result"
    }
   ],
   "source": [
    "len(pca_data[pca_data.kmedoids_cluster == 'c'])"
   ]
  },
  {
   "cell_type": "code",
   "execution_count": 100,
   "metadata": {},
   "outputs": [
    {
     "data": {
      "image/png": "[encoded data removed]",
      "text/plain": [
       "<Figure size 576x396 with 1 Axes>"
      ]
     },
     "metadata": {},
     "output_type": "display_data"
    }
   ],
   "source": [
    "n_components = np.arange(1, 6)\n",
    "models = [GaussianMixture(n, covariance_type='full', random_state=0).fit(pca_raw)\n",
    "          for n in n_components]\n",
    "\n",
    "plt.plot(n_components, [m.bic(pca_raw) for m in models], label='BIC')\n",
    "#plt.plot(n_components, [m.aic(Xmoon) for m in models], label='AIC')\n",
    "plt.legend(loc='best')\n",
    "plt.xlabel('n_components');"
   ]
  },
  {
   "cell_type": "code",
   "execution_count": 101,
   "metadata": {},
   "outputs": [],
   "source": [
    "# GMM 적용\n",
    "\n",
    "# n_components로 미리 군집 개수 설정\n",
    "gmm = GaussianMixture(n_components=3, random_state=40)\n",
    "gmm_labels = gmm.fit(pca_raw).predict(pca_raw)\n",
    "\n",
    "pca_data['gmm_cluster'] = gmm_labels"
   ]
  },
  {
   "cell_type": "code",
   "execution_count": 102,
   "metadata": {},
   "outputs": [
    {
     "data": {
      "text/plain": [
       "Text(0.5, 1.0, 'GMM')"
      ]
     },
     "execution_count": 102,
     "metadata": {},
     "output_type": "execute_result"
    },
    {
     "data": {
      "image/png": "[encoded data removed]",
      "text/plain": [
       "<Figure size 569.875x504 with 1 Axes>"
      ]
     },
     "metadata": {},
     "output_type": "display_data"
    }
   ],
   "source": [
    "sns.relplot(\n",
    "    x=\"PC1\", y=\"PC2\", hue=\"gmm_cluster\", \n",
    "    data=pca_data, height=7,\n",
    ");\n",
    "plt.title('GMM', size = 20)"
   ]
  },
  {
   "cell_type": "code",
   "execution_count": 103,
   "metadata": {},
   "outputs": [
    {
     "data": {
      "text/html": [
       "<div>\n",
       "<style scoped>\n",
       "    .dataframe tbody tr th:only-of-type {\n",
       "        vertical-align: middle;\n",
       "    }\n",
       "\n",
       "    .dataframe tbody tr th {\n",
       "        vertical-align: top;\n",
       "    }\n",
       "\n",
       "    .dataframe thead th {\n",
       "        text-align: right;\n",
       "    }\n",
       "</style>\n",
       "<table border=\"1\" class=\"dataframe\">\n",
       "  <thead>\n",
       "    <tr style=\"text-align: right;\">\n",
       "      <th></th>\n",
       "      <th>PC1</th>\n",
       "      <th>PC2</th>\n",
       "    </tr>\n",
       "    <tr>\n",
       "      <th>gmm_cluster</th>\n",
       "      <th></th>\n",
       "      <th></th>\n",
       "    </tr>\n",
       "  </thead>\n",
       "  <tbody>\n",
       "    <tr>\n",
       "      <th>0</th>\n",
       "      <td>-1.671713</td>\n",
       "      <td>2.476605</td>\n",
       "    </tr>\n",
       "    <tr>\n",
       "      <th>1</th>\n",
       "      <td>-0.776537</td>\n",
       "      <td>-0.320281</td>\n",
       "    </tr>\n",
       "    <tr>\n",
       "      <th>2</th>\n",
       "      <td>2.753471</td>\n",
       "      <td>0.185834</td>\n",
       "    </tr>\n",
       "  </tbody>\n",
       "</table>\n",
       "</div>"
      ],
      "text/plain": [
       "                  PC1       PC2\n",
       "gmm_cluster                    \n",
       "0           -1.671713  2.476605\n",
       "1           -0.776537 -0.320281\n",
       "2            2.753471  0.185834"
      ]
     },
     "execution_count": 103,
     "metadata": {},
     "output_type": "execute_result"
    }
   ],
   "source": [
    "pca_data.groupby('gmm_cluster')[['PC1','PC2']].mean()\n",
    "\n",
    "# PC1 : 값이 클수록 고령인구비율이 적고 잘 사는 지역\n",
    "# PC2 : 값이 클수록 기초수급자비율이 높은 지역\n",
    "\n",
    "# 0 : 어정쩡한 지역\n",
    "# 1 : 잘 사는 지역\n",
    "# 2 : 못 사는 지역"
   ]
  },
  {
   "cell_type": "code",
   "execution_count": 104,
   "metadata": {},
   "outputs": [],
   "source": [
    "pca_data.gmm_cluster[pca_data.gmm_cluster == 0] = 'c'\n",
    "pca_data.gmm_cluster[pca_data.gmm_cluster == 1] = 'b'\n",
    "pca_data.gmm_cluster[pca_data.gmm_cluster == 2] = 'a'\n"
   ]
  },
  {
   "cell_type": "code",
   "execution_count": null,
   "metadata": {},
   "outputs": [],
   "source": []
  },
  {
   "cell_type": "code",
   "execution_count": 105,
   "metadata": {},
   "outputs": [],
   "source": [
    "#pca_data = pca_data.reset_index().drop(['합산','score','index'] , axis = 1)"
   ]
  },
  {
   "cell_type": "code",
   "execution_count": 106,
   "metadata": {},
   "outputs": [],
   "source": [
    "pca_data1 = pca_data"
   ]
  },
  {
   "cell_type": "code",
   "execution_count": 107,
   "metadata": {},
   "outputs": [
    {
     "data": {
      "text/html": [
       "<div>\n",
       "<style scoped>\n",
       "    .dataframe tbody tr th:only-of-type {\n",
       "        vertical-align: middle;\n",
       "    }\n",
       "\n",
       "    .dataframe tbody tr th {\n",
       "        vertical-align: top;\n",
       "    }\n",
       "\n",
       "    .dataframe thead th {\n",
       "        text-align: right;\n",
       "    }\n",
       "</style>\n",
       "<table border=\"1\" class=\"dataframe\">\n",
       "  <thead>\n",
       "    <tr style=\"text-align: right;\">\n",
       "      <th></th>\n",
       "      <th>kmeans_cluster</th>\n",
       "      <th>kmedoids_cluster</th>\n",
       "      <th>gmm_cluster</th>\n",
       "    </tr>\n",
       "  </thead>\n",
       "  <tbody>\n",
       "    <tr>\n",
       "      <th>0</th>\n",
       "      <td>2</td>\n",
       "      <td>2</td>\n",
       "      <td>2</td>\n",
       "    </tr>\n",
       "    <tr>\n",
       "      <th>1</th>\n",
       "      <td>2</td>\n",
       "      <td>2</td>\n",
       "      <td>1</td>\n",
       "    </tr>\n",
       "    <tr>\n",
       "      <th>2</th>\n",
       "      <td>1</td>\n",
       "      <td>2</td>\n",
       "      <td>1</td>\n",
       "    </tr>\n",
       "    <tr>\n",
       "      <th>3</th>\n",
       "      <td>2</td>\n",
       "      <td>2</td>\n",
       "      <td>1</td>\n",
       "    </tr>\n",
       "    <tr>\n",
       "      <th>4</th>\n",
       "      <td>0</td>\n",
       "      <td>0</td>\n",
       "      <td>0</td>\n",
       "    </tr>\n",
       "  </tbody>\n",
       "</table>\n",
       "</div>"
      ],
      "text/plain": [
       "   kmeans_cluster  kmedoids_cluster  gmm_cluster\n",
       "0               2                 2            2\n",
       "1               2                 2            1\n",
       "2               1                 2            1\n",
       "3               2                 2            1\n",
       "4               0                 0            0"
      ]
     },
     "execution_count": 107,
     "metadata": {},
     "output_type": "execute_result"
    }
   ],
   "source": [
    "cluster = pca_data1.iloc[:,5:]\n",
    "cluster.replace({'a':0, 'b':1,'c':2}, inplace = True)\n",
    "\n",
    "cluster.head()"
   ]
  },
  {
   "cell_type": "markdown",
   "metadata": {},
   "source": [
    "### 점수화를 이용한 도출"
   ]
  },
  {
   "cell_type": "code",
   "execution_count": 108,
   "metadata": {},
   "outputs": [],
   "source": [
    "pca_data1['합산'] = cluster.sum(axis = 1)"
   ]
  },
  {
   "cell_type": "code",
   "execution_count": 109,
   "metadata": {},
   "outputs": [
    {
     "data": {
      "text/html": [
       "<div>\n",
       "<style scoped>\n",
       "    .dataframe tbody tr th:only-of-type {\n",
       "        vertical-align: middle;\n",
       "    }\n",
       "\n",
       "    .dataframe tbody tr th {\n",
       "        vertical-align: top;\n",
       "    }\n",
       "\n",
       "    .dataframe thead th {\n",
       "        text-align: right;\n",
       "    }\n",
       "</style>\n",
       "<table border=\"1\" class=\"dataframe\">\n",
       "  <thead>\n",
       "    <tr style=\"text-align: right;\">\n",
       "      <th></th>\n",
       "      <th>PC1</th>\n",
       "      <th>PC2</th>\n",
       "      <th>PC3</th>\n",
       "      <th>PC4</th>\n",
       "      <th>PC5</th>\n",
       "      <th>kmeans_cluster</th>\n",
       "      <th>kmedoids_cluster</th>\n",
       "      <th>gmm_cluster</th>\n",
       "      <th>합산</th>\n",
       "    </tr>\n",
       "  </thead>\n",
       "  <tbody>\n",
       "    <tr>\n",
       "      <th>0</th>\n",
       "      <td>-1.200516</td>\n",
       "      <td>2.097935</td>\n",
       "      <td>-0.106738</td>\n",
       "      <td>0.395977</td>\n",
       "      <td>2.464612e-09</td>\n",
       "      <td>c</td>\n",
       "      <td>c</td>\n",
       "      <td>c</td>\n",
       "      <td>6</td>\n",
       "    </tr>\n",
       "    <tr>\n",
       "      <th>1</th>\n",
       "      <td>-1.726992</td>\n",
       "      <td>0.083224</td>\n",
       "      <td>0.395997</td>\n",
       "      <td>0.334148</td>\n",
       "      <td>7.373633e-10</td>\n",
       "      <td>c</td>\n",
       "      <td>c</td>\n",
       "      <td>b</td>\n",
       "      <td>5</td>\n",
       "    </tr>\n",
       "    <tr>\n",
       "      <th>2</th>\n",
       "      <td>-0.514463</td>\n",
       "      <td>0.285344</td>\n",
       "      <td>-0.367576</td>\n",
       "      <td>-0.850850</td>\n",
       "      <td>3.097459e-09</td>\n",
       "      <td>b</td>\n",
       "      <td>c</td>\n",
       "      <td>b</td>\n",
       "      <td>4</td>\n",
       "    </tr>\n",
       "    <tr>\n",
       "      <th>3</th>\n",
       "      <td>-1.206668</td>\n",
       "      <td>0.204459</td>\n",
       "      <td>0.210540</td>\n",
       "      <td>0.672792</td>\n",
       "      <td>-1.701417e-09</td>\n",
       "      <td>c</td>\n",
       "      <td>c</td>\n",
       "      <td>b</td>\n",
       "      <td>5</td>\n",
       "    </tr>\n",
       "    <tr>\n",
       "      <th>4</th>\n",
       "      <td>2.343651</td>\n",
       "      <td>-0.366604</td>\n",
       "      <td>-0.851392</td>\n",
       "      <td>0.596552</td>\n",
       "      <td>3.668699e-09</td>\n",
       "      <td>a</td>\n",
       "      <td>a</td>\n",
       "      <td>a</td>\n",
       "      <td>0</td>\n",
       "    </tr>\n",
       "    <tr>\n",
       "      <th>...</th>\n",
       "      <td>...</td>\n",
       "      <td>...</td>\n",
       "      <td>...</td>\n",
       "      <td>...</td>\n",
       "      <td>...</td>\n",
       "      <td>...</td>\n",
       "      <td>...</td>\n",
       "      <td>...</td>\n",
       "      <td>...</td>\n",
       "    </tr>\n",
       "    <tr>\n",
       "      <th>79</th>\n",
       "      <td>-1.430340</td>\n",
       "      <td>-1.106912</td>\n",
       "      <td>0.420723</td>\n",
       "      <td>0.257635</td>\n",
       "      <td>-5.358376e-09</td>\n",
       "      <td>b</td>\n",
       "      <td>b</td>\n",
       "      <td>b</td>\n",
       "      <td>3</td>\n",
       "    </tr>\n",
       "    <tr>\n",
       "      <th>80</th>\n",
       "      <td>-0.275789</td>\n",
       "      <td>0.022768</td>\n",
       "      <td>-0.194025</td>\n",
       "      <td>-0.272200</td>\n",
       "      <td>6.182220e-09</td>\n",
       "      <td>b</td>\n",
       "      <td>c</td>\n",
       "      <td>b</td>\n",
       "      <td>4</td>\n",
       "    </tr>\n",
       "    <tr>\n",
       "      <th>81</th>\n",
       "      <td>-0.680353</td>\n",
       "      <td>-0.967611</td>\n",
       "      <td>-0.029445</td>\n",
       "      <td>-0.336286</td>\n",
       "      <td>-6.728391e-10</td>\n",
       "      <td>b</td>\n",
       "      <td>b</td>\n",
       "      <td>b</td>\n",
       "      <td>3</td>\n",
       "    </tr>\n",
       "    <tr>\n",
       "      <th>82</th>\n",
       "      <td>-0.928733</td>\n",
       "      <td>0.442987</td>\n",
       "      <td>-0.071052</td>\n",
       "      <td>-0.056849</td>\n",
       "      <td>-1.334034e-09</td>\n",
       "      <td>c</td>\n",
       "      <td>c</td>\n",
       "      <td>b</td>\n",
       "      <td>5</td>\n",
       "    </tr>\n",
       "    <tr>\n",
       "      <th>83</th>\n",
       "      <td>-1.399277</td>\n",
       "      <td>0.839167</td>\n",
       "      <td>0.108782</td>\n",
       "      <td>0.116869</td>\n",
       "      <td>1.075796e-09</td>\n",
       "      <td>c</td>\n",
       "      <td>c</td>\n",
       "      <td>b</td>\n",
       "      <td>5</td>\n",
       "    </tr>\n",
       "  </tbody>\n",
       "</table>\n",
       "<p>84 rows × 9 columns</p>\n",
       "</div>"
      ],
      "text/plain": [
       "         PC1       PC2       PC3       PC4           PC5 kmeans_cluster  \\\n",
       "0  -1.200516  2.097935 -0.106738  0.395977  2.464612e-09              c   \n",
       "1  -1.726992  0.083224  0.395997  0.334148  7.373633e-10              c   \n",
       "2  -0.514463  0.285344 -0.367576 -0.850850  3.097459e-09              b   \n",
       "3  -1.206668  0.204459  0.210540  0.672792 -1.701417e-09              c   \n",
       "4   2.343651 -0.366604 -0.851392  0.596552  3.668699e-09              a   \n",
       "..       ...       ...       ...       ...           ...            ...   \n",
       "79 -1.430340 -1.106912  0.420723  0.257635 -5.358376e-09              b   \n",
       "80 -0.275789  0.022768 -0.194025 -0.272200  6.182220e-09              b   \n",
       "81 -0.680353 -0.967611 -0.029445 -0.336286 -6.728391e-10              b   \n",
       "82 -0.928733  0.442987 -0.071052 -0.056849 -1.334034e-09              c   \n",
       "83 -1.399277  0.839167  0.108782  0.116869  1.075796e-09              c   \n",
       "\n",
       "   kmedoids_cluster gmm_cluster  합산  \n",
       "0                 c           c   6  \n",
       "1                 c           b   5  \n",
       "2                 c           b   4  \n",
       "3                 c           b   5  \n",
       "4                 a           a   0  \n",
       "..              ...         ...  ..  \n",
       "79                b           b   3  \n",
       "80                c           b   4  \n",
       "81                b           b   3  \n",
       "82                c           b   5  \n",
       "83                c           b   5  \n",
       "\n",
       "[84 rows x 9 columns]"
      ]
     },
     "execution_count": 109,
     "metadata": {},
     "output_type": "execute_result"
    }
   ],
   "source": [
    "pca_data1"
   ]
  },
  {
   "cell_type": "code",
   "execution_count": 110,
   "metadata": {},
   "outputs": [],
   "source": [
    "pca_data1['score'] = pca_data1['합산'] * data['고령인구수'] * data['고령인구비율']"
   ]
  },
  {
   "cell_type": "code",
   "execution_count": 111,
   "metadata": {},
   "outputs": [],
   "source": [
    "pca_data1['고령인구수'] = data['고령인구수']\n",
    "pca_data1['총인구수'] = data['총인구수']"
   ]
  },
  {
   "cell_type": "markdown",
   "metadata": {},
   "source": [
    "* 점수가 5점 이상인 데이터만을 추출"
   ]
  },
  {
   "cell_type": "code",
   "execution_count": 113,
   "metadata": {},
   "outputs": [],
   "source": [
    "final = pca_data.sort_values('score', ascending = False)\n",
    "final.index = data['법정동명']\n",
    "\n",
    "ff = final.loc[final.합산 >= 5]"
   ]
  },
  {
   "cell_type": "code",
   "execution_count": 296,
   "metadata": {},
   "outputs": [
    {
     "data": {
      "text/html": [
       "<div>\n",
       "<style scoped>\n",
       "    .dataframe tbody tr th:only-of-type {\n",
       "        vertical-align: middle;\n",
       "    }\n",
       "\n",
       "    .dataframe tbody tr th {\n",
       "        vertical-align: top;\n",
       "    }\n",
       "\n",
       "    .dataframe thead th {\n",
       "        text-align: right;\n",
       "    }\n",
       "</style>\n",
       "<table border=\"1\" class=\"dataframe\">\n",
       "  <thead>\n",
       "    <tr style=\"text-align: right;\">\n",
       "      <th></th>\n",
       "      <th>PC1</th>\n",
       "      <th>PC2</th>\n",
       "      <th>PC3</th>\n",
       "      <th>PC4</th>\n",
       "      <th>PC5</th>\n",
       "      <th>kmeans_cluster</th>\n",
       "      <th>kmedoids_cluster</th>\n",
       "      <th>gmm_cluster</th>\n",
       "      <th>합산</th>\n",
       "      <th>score</th>\n",
       "      <th>고령인구수</th>\n",
       "      <th>총인구수</th>\n",
       "    </tr>\n",
       "    <tr>\n",
       "      <th>법정동명</th>\n",
       "      <th></th>\n",
       "      <th></th>\n",
       "      <th></th>\n",
       "      <th></th>\n",
       "      <th></th>\n",
       "      <th></th>\n",
       "      <th></th>\n",
       "      <th></th>\n",
       "      <th></th>\n",
       "      <th></th>\n",
       "      <th></th>\n",
       "      <th></th>\n",
       "    </tr>\n",
       "  </thead>\n",
       "  <tbody>\n",
       "    <tr>\n",
       "      <th>마산리</th>\n",
       "      <td>-1.805764</td>\n",
       "      <td>0.312150</td>\n",
       "      <td>0.392873</td>\n",
       "      <td>0.303667</td>\n",
       "      <td>5.421655e-09</td>\n",
       "      <td>2</td>\n",
       "      <td>2</td>\n",
       "      <td>1</td>\n",
       "      <td>5</td>\n",
       "      <td>658.147773</td>\n",
       "      <td>255.0</td>\n",
       "      <td>494.0</td>\n",
       "    </tr>\n",
       "    <tr>\n",
       "      <th>수태리</th>\n",
       "      <td>-1.565798</td>\n",
       "      <td>0.459039</td>\n",
       "      <td>0.213386</td>\n",
       "      <td>-0.007612</td>\n",
       "      <td>-2.396453e-09</td>\n",
       "      <td>2</td>\n",
       "      <td>2</td>\n",
       "      <td>1</td>\n",
       "      <td>5</td>\n",
       "      <td>532.224622</td>\n",
       "      <td>222.0</td>\n",
       "      <td>463.0</td>\n",
       "    </tr>\n",
       "    <tr>\n",
       "      <th>금고리</th>\n",
       "      <td>-1.968306</td>\n",
       "      <td>0.040673</td>\n",
       "      <td>0.583147</td>\n",
       "      <td>0.770782</td>\n",
       "      <td>-7.017889e-09</td>\n",
       "      <td>2</td>\n",
       "      <td>2</td>\n",
       "      <td>1</td>\n",
       "      <td>5</td>\n",
       "      <td>453.395904</td>\n",
       "      <td>163.0</td>\n",
       "      <td>293.0</td>\n",
       "    </tr>\n",
       "    <tr>\n",
       "      <th>신천리</th>\n",
       "      <td>-1.726992</td>\n",
       "      <td>0.083224</td>\n",
       "      <td>0.395997</td>\n",
       "      <td>0.334148</td>\n",
       "      <td>7.373633e-10</td>\n",
       "      <td>2</td>\n",
       "      <td>2</td>\n",
       "      <td>1</td>\n",
       "      <td>5</td>\n",
       "      <td>391.593220</td>\n",
       "      <td>152.0</td>\n",
       "      <td>295.0</td>\n",
       "    </tr>\n",
       "    <tr>\n",
       "      <th>병암리</th>\n",
       "      <td>-1.206668</td>\n",
       "      <td>0.204459</td>\n",
       "      <td>0.210540</td>\n",
       "      <td>0.672792</td>\n",
       "      <td>-1.701417e-09</td>\n",
       "      <td>2</td>\n",
       "      <td>2</td>\n",
       "      <td>1</td>\n",
       "      <td>5</td>\n",
       "      <td>338.964912</td>\n",
       "      <td>139.0</td>\n",
       "      <td>285.0</td>\n",
       "    </tr>\n",
       "    <tr>\n",
       "      <th>한벌리</th>\n",
       "      <td>-1.115573</td>\n",
       "      <td>0.981776</td>\n",
       "      <td>-0.065091</td>\n",
       "      <td>-0.055539</td>\n",
       "      <td>-3.500347e-09</td>\n",
       "      <td>2</td>\n",
       "      <td>2</td>\n",
       "      <td>1</td>\n",
       "      <td>5</td>\n",
       "      <td>337.063712</td>\n",
       "      <td>156.0</td>\n",
       "      <td>361.0</td>\n",
       "    </tr>\n",
       "    <tr>\n",
       "      <th>본대리</th>\n",
       "      <td>-1.386141</td>\n",
       "      <td>0.356432</td>\n",
       "      <td>0.254803</td>\n",
       "      <td>0.599610</td>\n",
       "      <td>-2.104910e-10</td>\n",
       "      <td>2</td>\n",
       "      <td>2</td>\n",
       "      <td>1</td>\n",
       "      <td>5</td>\n",
       "      <td>307.520000</td>\n",
       "      <td>124.0</td>\n",
       "      <td>250.0</td>\n",
       "    </tr>\n",
       "    <tr>\n",
       "      <th>봉현리</th>\n",
       "      <td>-1.320794</td>\n",
       "      <td>0.276285</td>\n",
       "      <td>0.151819</td>\n",
       "      <td>0.105745</td>\n",
       "      <td>-1.677938e-09</td>\n",
       "      <td>2</td>\n",
       "      <td>2</td>\n",
       "      <td>1</td>\n",
       "      <td>5</td>\n",
       "      <td>295.092937</td>\n",
       "      <td>126.0</td>\n",
       "      <td>269.0</td>\n",
       "    </tr>\n",
       "    <tr>\n",
       "      <th>덕정리</th>\n",
       "      <td>0.098789</td>\n",
       "      <td>1.156429</td>\n",
       "      <td>-0.303118</td>\n",
       "      <td>-0.656143</td>\n",
       "      <td>3.137419e-09</td>\n",
       "      <td>2</td>\n",
       "      <td>2</td>\n",
       "      <td>1</td>\n",
       "      <td>5</td>\n",
       "      <td>283.398926</td>\n",
       "      <td>178.0</td>\n",
       "      <td>559.0</td>\n",
       "    </tr>\n",
       "    <tr>\n",
       "      <th>천평리</th>\n",
       "      <td>-1.081650</td>\n",
       "      <td>0.400169</td>\n",
       "      <td>0.042576</td>\n",
       "      <td>0.178380</td>\n",
       "      <td>-7.483566e-09</td>\n",
       "      <td>2</td>\n",
       "      <td>2</td>\n",
       "      <td>1</td>\n",
       "      <td>5</td>\n",
       "      <td>256.837944</td>\n",
       "      <td>114.0</td>\n",
       "      <td>253.0</td>\n",
       "    </tr>\n",
       "    <tr>\n",
       "      <th>충도리</th>\n",
       "      <td>-0.870851</td>\n",
       "      <td>0.316404</td>\n",
       "      <td>-0.083686</td>\n",
       "      <td>-0.086689</td>\n",
       "      <td>-3.135650e-09</td>\n",
       "      <td>2</td>\n",
       "      <td>2</td>\n",
       "      <td>1</td>\n",
       "      <td>5</td>\n",
       "      <td>247.093863</td>\n",
       "      <td>117.0</td>\n",
       "      <td>277.0</td>\n",
       "    </tr>\n",
       "    <tr>\n",
       "      <th>원당리</th>\n",
       "      <td>-1.503073</td>\n",
       "      <td>0.708140</td>\n",
       "      <td>0.222505</td>\n",
       "      <td>0.404661</td>\n",
       "      <td>-4.738460e-10</td>\n",
       "      <td>2</td>\n",
       "      <td>2</td>\n",
       "      <td>1</td>\n",
       "      <td>5</td>\n",
       "      <td>240.100000</td>\n",
       "      <td>98.0</td>\n",
       "      <td>200.0</td>\n",
       "    </tr>\n",
       "    <tr>\n",
       "      <th>내산리</th>\n",
       "      <td>-0.156660</td>\n",
       "      <td>0.952920</td>\n",
       "      <td>-0.420969</td>\n",
       "      <td>-0.525636</td>\n",
       "      <td>3.602207e-09</td>\n",
       "      <td>2</td>\n",
       "      <td>2</td>\n",
       "      <td>1</td>\n",
       "      <td>5</td>\n",
       "      <td>230.049751</td>\n",
       "      <td>136.0</td>\n",
       "      <td>402.0</td>\n",
       "    </tr>\n",
       "    <tr>\n",
       "      <th>청용리</th>\n",
       "      <td>-0.928733</td>\n",
       "      <td>0.442987</td>\n",
       "      <td>-0.071052</td>\n",
       "      <td>-0.056849</td>\n",
       "      <td>-1.334034e-09</td>\n",
       "      <td>2</td>\n",
       "      <td>2</td>\n",
       "      <td>1</td>\n",
       "      <td>5</td>\n",
       "      <td>228.067729</td>\n",
       "      <td>107.0</td>\n",
       "      <td>251.0</td>\n",
       "    </tr>\n",
       "    <tr>\n",
       "      <th>양덕리</th>\n",
       "      <td>-0.937733</td>\n",
       "      <td>0.463811</td>\n",
       "      <td>-0.061060</td>\n",
       "      <td>-0.005041</td>\n",
       "      <td>2.131124e-09</td>\n",
       "      <td>2</td>\n",
       "      <td>2</td>\n",
       "      <td>1</td>\n",
       "      <td>5</td>\n",
       "      <td>227.449393</td>\n",
       "      <td>106.0</td>\n",
       "      <td>247.0</td>\n",
       "    </tr>\n",
       "    <tr>\n",
       "      <th>소석리</th>\n",
       "      <td>-1.399277</td>\n",
       "      <td>0.839167</td>\n",
       "      <td>0.108782</td>\n",
       "      <td>0.116869</td>\n",
       "      <td>1.075796e-09</td>\n",
       "      <td>2</td>\n",
       "      <td>2</td>\n",
       "      <td>1</td>\n",
       "      <td>5</td>\n",
       "      <td>204.867725</td>\n",
       "      <td>88.0</td>\n",
       "      <td>189.0</td>\n",
       "    </tr>\n",
       "    <tr>\n",
       "      <th>마송리</th>\n",
       "      <td>-0.718315</td>\n",
       "      <td>0.444289</td>\n",
       "      <td>-0.089319</td>\n",
       "      <td>-0.440234</td>\n",
       "      <td>2.732891e-09</td>\n",
       "      <td>2</td>\n",
       "      <td>2</td>\n",
       "      <td>1</td>\n",
       "      <td>5</td>\n",
       "      <td>204.019231</td>\n",
       "      <td>103.0</td>\n",
       "      <td>260.0</td>\n",
       "    </tr>\n",
       "    <tr>\n",
       "      <th>용촌리</th>\n",
       "      <td>-0.878962</td>\n",
       "      <td>0.524708</td>\n",
       "      <td>-0.149716</td>\n",
       "      <td>-0.318537</td>\n",
       "      <td>2.126418e-09</td>\n",
       "      <td>2</td>\n",
       "      <td>2</td>\n",
       "      <td>1</td>\n",
       "      <td>5</td>\n",
       "      <td>200.083333</td>\n",
       "      <td>98.0</td>\n",
       "      <td>240.0</td>\n",
       "    </tr>\n",
       "  </tbody>\n",
       "</table>\n",
       "</div>"
      ],
      "text/plain": [
       "           PC1       PC2       PC3       PC4           PC5  kmeans_cluster  \\\n",
       "법정동명                                                                         \n",
       "마산리  -1.805764  0.312150  0.392873  0.303667  5.421655e-09               2   \n",
       "수태리  -1.565798  0.459039  0.213386 -0.007612 -2.396453e-09               2   \n",
       "금고리  -1.968306  0.040673  0.583147  0.770782 -7.017889e-09               2   \n",
       "신천리  -1.726992  0.083224  0.395997  0.334148  7.373633e-10               2   \n",
       "병암리  -1.206668  0.204459  0.210540  0.672792 -1.701417e-09               2   \n",
       "한벌리  -1.115573  0.981776 -0.065091 -0.055539 -3.500347e-09               2   \n",
       "본대리  -1.386141  0.356432  0.254803  0.599610 -2.104910e-10               2   \n",
       "봉현리  -1.320794  0.276285  0.151819  0.105745 -1.677938e-09               2   \n",
       "덕정리   0.098789  1.156429 -0.303118 -0.656143  3.137419e-09               2   \n",
       "천평리  -1.081650  0.400169  0.042576  0.178380 -7.483566e-09               2   \n",
       "충도리  -0.870851  0.316404 -0.083686 -0.086689 -3.135650e-09               2   \n",
       "원당리  -1.503073  0.708140  0.222505  0.404661 -4.738460e-10               2   \n",
       "내산리  -0.156660  0.952920 -0.420969 -0.525636  3.602207e-09               2   \n",
       "청용리  -0.928733  0.442987 -0.071052 -0.056849 -1.334034e-09               2   \n",
       "양덕리  -0.937733  0.463811 -0.061060 -0.005041  2.131124e-09               2   \n",
       "소석리  -1.399277  0.839167  0.108782  0.116869  1.075796e-09               2   \n",
       "마송리  -0.718315  0.444289 -0.089319 -0.440234  2.732891e-09               2   \n",
       "용촌리  -0.878962  0.524708 -0.149716 -0.318537  2.126418e-09               2   \n",
       "\n",
       "      kmedoids_cluster  gmm_cluster  합산       score  고령인구수   총인구수  \n",
       "법정동명                                                               \n",
       "마산리                  2            1   5  658.147773  255.0  494.0  \n",
       "수태리                  2            1   5  532.224622  222.0  463.0  \n",
       "금고리                  2            1   5  453.395904  163.0  293.0  \n",
       "신천리                  2            1   5  391.593220  152.0  295.0  \n",
       "병암리                  2            1   5  338.964912  139.0  285.0  \n",
       "한벌리                  2            1   5  337.063712  156.0  361.0  \n",
       "본대리                  2            1   5  307.520000  124.0  250.0  \n",
       "봉현리                  2            1   5  295.092937  126.0  269.0  \n",
       "덕정리                  2            1   5  283.398926  178.0  559.0  \n",
       "천평리                  2            1   5  256.837944  114.0  253.0  \n",
       "충도리                  2            1   5  247.093863  117.0  277.0  \n",
       "원당리                  2            1   5  240.100000   98.0  200.0  \n",
       "내산리                  2            1   5  230.049751  136.0  402.0  \n",
       "청용리                  2            1   5  228.067729  107.0  251.0  \n",
       "양덕리                  2            1   5  227.449393  106.0  247.0  \n",
       "소석리                  2            1   5  204.867725   88.0  189.0  \n",
       "마송리                  2            1   5  204.019231  103.0  260.0  \n",
       "용촌리                  2            1   5  200.083333   98.0  240.0  "
      ]
     },
     "execution_count": 296,
     "metadata": {},
     "output_type": "execute_result"
    }
   ],
   "source": [
    "ff"
   ]
  },
  {
   "cell_type": "code",
   "execution_count": 114,
   "metadata": {},
   "outputs": [
    {
     "data": {
      "text/plain": [
       "24"
      ]
     },
     "execution_count": 114,
     "metadata": {},
     "output_type": "execute_result"
    }
   ],
   "source": [
    "len(ff)"
   ]
  },
  {
   "cell_type": "code",
   "execution_count": 115,
   "metadata": {},
   "outputs": [
    {
     "data": {
      "text/plain": [
       "Text(0.5, 1.0, 'Cluster')"
      ]
     },
     "execution_count": 115,
     "metadata": {},
     "output_type": "execute_result"
    },
    {
     "data": {
      "image/png": "[encoded data removed]",
      "text/plain": [
       "<Figure size 432x432 with 1 Axes>"
      ]
     },
     "metadata": {},
     "output_type": "display_data"
    }
   ],
   "source": [
    "sns.relplot(\n",
    "    x=\"PC1\", y=\"PC2\", \n",
    "    data=ff, height=6,palette='Set2',\n",
    ");\n",
    "plt.title('Cluster', fontsize = 20)"
   ]
  },
  {
   "cell_type": "code",
   "execution_count": 116,
   "metadata": {},
   "outputs": [],
   "source": [
    "ff.to_csv(r\"D:\\NIA\\선택과제\\충청북도 음성군 공공와이파이 우선설치지역 도출\\final.csv\")"
   ]
  },
  {
   "cell_type": "code",
   "execution_count": null,
   "metadata": {},
   "outputs": [],
   "source": []
  },
  {
   "cell_type": "code",
   "execution_count": null,
   "metadata": {},
   "outputs": [],
   "source": []
  },
  {
   "cell_type": "code",
   "execution_count": null,
   "metadata": {},
   "outputs": [],
   "source": []
  },
  {
   "cell_type": "code",
   "execution_count": null,
   "metadata": {},
   "outputs": [],
   "source": []
  },
  {
   "cell_type": "markdown",
   "metadata": {},
   "source": [
    "### 최빈값을 이용한 도출"
   ]
  },
  {
   "cell_type": "code",
   "execution_count": 117,
   "metadata": {
    "scrolled": false
   },
   "outputs": [],
   "source": [
    "# 최빈값 구하기\n",
    "\n",
    "mode_list = []\n",
    "\n",
    "for i in range(len(cluster)):\n",
    "    vals,counts = np.unique(cluster.iloc[i,:], return_counts=True)\n",
    "    index = np.argmax(counts)\n",
    "    mode_list.append(vals[index])\n",
    "    #print(mode_list)"
   ]
  },
  {
   "cell_type": "code",
   "execution_count": 118,
   "metadata": {},
   "outputs": [],
   "source": [
    "pca_data['final_cluster'] = mode_list\n",
    "pca_data['final_cluster'] = pca_data['final_cluster'].astype('category')\n"
   ]
  },
  {
   "cell_type": "code",
   "execution_count": 119,
   "metadata": {
    "scrolled": true
   },
   "outputs": [
    {
     "data": {
      "text/plain": [
       "Text(0.5, 1.0, 'Voting_Cluster')"
      ]
     },
     "execution_count": 119,
     "metadata": {},
     "output_type": "execute_result"
    },
    {
     "data": {
      "image/png": "[encoded data removed]",
      "text/plain": [
       "<Figure size 493.375x432 with 1 Axes>"
      ]
     },
     "metadata": {},
     "output_type": "display_data"
    }
   ],
   "source": [
    "sns.relplot(\n",
    "    x=\"PC1\", y=\"PC2\", \n",
    "    hue=\"final_cluster\", markers='final_cluster', \n",
    "    data=pca_data, height=6, palette='Set2',\n",
    ");\n",
    "plt.title('Voting_Cluster', fontsize = 20)"
   ]
  },
  {
   "cell_type": "code",
   "execution_count": 120,
   "metadata": {},
   "outputs": [
    {
     "data": {
      "text/plain": [
       "1    41\n",
       "2    24\n",
       "0    19\n",
       "Name: final_cluster, dtype: int64"
      ]
     },
     "execution_count": 120,
     "metadata": {},
     "output_type": "execute_result"
    }
   ],
   "source": [
    "pca_data['final_cluster'].value_counts()"
   ]
  },
  {
   "cell_type": "code",
   "execution_count": null,
   "metadata": {},
   "outputs": [],
   "source": []
  },
  {
   "cell_type": "markdown",
   "metadata": {},
   "source": [
    "#### 상의 결과, K-medoids을 이용해 나온 군집을 저장"
   ]
  },
  {
   "cell_type": "code",
   "execution_count": null,
   "metadata": {},
   "outputs": [],
   "source": [
    "data['kmedoids'] = pca_data['kmedoids_cluster']\n",
    "data.head()\n",
    "\n",
    "dk = data[data.kmedoids == 2]\n",
    "dk.to_csv(r\"D:\\NIA\\선택과제\\충청북도 음성군 공공와이파이 우선설치지역 도출\\음성군_법정동데이터(완벽)\\kmedodis.csv\", index = False, encoding = 'utf-8-sig')"
   ]
  }
 ],
 "metadata": {
  "kernelspec": {
   "display_name": "Python 3",
   "language": "python",
   "name": "python3"
  },
  "language_info": {
   "codemirror_mode": {
    "name": "ipython",
    "version": 3
   },
   "file_extension": ".py",
   "mimetype": "text/x-python",
   "name": "python",
   "nbconvert_exporter": "python",
   "pygments_lexer": "ipython3",
   "version": "3.7.7"
  }
 },
 "nbformat": 4,
 "nbformat_minor": 4
}
